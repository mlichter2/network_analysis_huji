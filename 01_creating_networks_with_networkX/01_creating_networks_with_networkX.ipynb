{
 "cells": [
  {
   "cell_type": "markdown",
   "metadata": {},
   "source": [
    "# Creating networks with NetworkX\n",
    "https://networkx.github.io/documentation/stable/index.html"
   ]
  },
  {
   "cell_type": "code",
   "execution_count": 1,
   "metadata": {},
   "outputs": [],
   "source": [
    "import networkx as nx"
   ]
  },
  {
   "cell_type": "markdown",
   "metadata": {},
   "source": [
    "### Creating our fisrt graph\n",
    "use `nx.Graph()` to create a networkX  Graph.  A networkX  Graph is a collection of nodes (vertices) along with identified pairs of nodes (called edges, links, etc). In NetworkX, nodes can be any hashable object e.g., a text string, an image, an XML object, another Graph, a customized node object, etc."
   ]
  },
  {
   "cell_type": "code",
   "execution_count": null,
   "metadata": {},
   "outputs": [],
   "source": []
  },
  {
   "cell_type": "markdown",
   "metadata": {},
   "source": [
    "### Adding our first edge (and nodes)\n",
    "use `nx.Graph().add_edge()` to add one edge at a time"
   ]
  },
  {
   "cell_type": "code",
   "execution_count": null,
   "metadata": {},
   "outputs": [],
   "source": []
  },
  {
   "cell_type": "markdown",
   "metadata": {},
   "source": [
    "`G.nodes`, `G.edges`, are set-like views of the nodes, edges in a graph. They offer a continually updated read-only view into the graph structure. They are also dict-like in that you can look up node and edge data attributes via the views and iterate with data attributes using methods `.items()`, `.data()`. "
   ]
  },
  {
   "cell_type": "code",
   "execution_count": null,
   "metadata": {},
   "outputs": [],
   "source": []
  },
  {
   "cell_type": "markdown",
   "metadata": {},
   "source": [
    "### Adding a node\n",
    "use `nx.Graph().add_node()` to add one node at a time\n"
   ]
  },
  {
   "cell_type": "code",
   "execution_count": null,
   "metadata": {},
   "outputs": [],
   "source": []
  },
  {
   "cell_type": "markdown",
   "metadata": {},
   "source": [
    "### Adding a list of edges\n",
    "use `nx.Graph().add_edges_from()` to add multiple edges. This method will take any iterable container of edge-tuples. An edge-tuple can be a 2-tuple of nodes or a 3-tuple with 2 nodes followed by an edge attribute dictionary, e.g., (2, 3, {'weight': 3.1415})."
   ]
  },
  {
   "cell_type": "code",
   "execution_count": null,
   "metadata": {},
   "outputs": [],
   "source": []
  },
  {
   "cell_type": "markdown",
   "metadata": {},
   "source": [
    "### Adding a list of nodes\n",
    "use `nx.Graph().add_edges_from()` to add a list of nodes"
   ]
  },
  {
   "cell_type": "code",
   "execution_count": null,
   "metadata": {},
   "outputs": [],
   "source": []
  },
  {
   "cell_type": "markdown",
   "metadata": {},
   "source": [
    "### The number of nodes and edges in the graph\n",
    "\n",
    "use `nx.Graph().number_of_nodes()` and `nx.Graph().number_of_edges()` to get the number of nodes and edges in the graph"
   ]
  },
  {
   "cell_type": "code",
   "execution_count": null,
   "metadata": {},
   "outputs": [],
   "source": []
  },
  {
   "cell_type": "markdown",
   "metadata": {},
   "source": [
    "### Neighbors\n",
    "use `nx.Graph().adj` to get each node's neighbors. like `G.nodes`, `G.edges`, `G.adj` and `G.degree` are set-like views of the neighbors and degrees in a graph. They offer a continually updated read-only view into the graph structure. "
   ]
  },
  {
   "cell_type": "code",
   "execution_count": null,
   "metadata": {},
   "outputs": [],
   "source": []
  },
  {
   "cell_type": "markdown",
   "metadata": {},
   "source": [
    "You can also use `G.adjacency()` note that for undirected graphs - each edge appears twice"
   ]
  },
  {
   "cell_type": "code",
   "execution_count": null,
   "metadata": {},
   "outputs": [],
   "source": []
  },
  {
   "cell_type": "markdown",
   "metadata": {},
   "source": [
    "##### use `G.neighbors(node)`  or `(nx.neighbors(G, node)`to get a node's neighbors"
   ]
  },
  {
   "cell_type": "code",
   "execution_count": null,
   "metadata": {},
   "outputs": [],
   "source": []
  },
  {
   "cell_type": "markdown",
   "metadata": {},
   "source": [
    "##### use `nx.non_neighbors(G, node)`  to get all the nodes that are not neighbors of a node "
   ]
  },
  {
   "cell_type": "code",
   "execution_count": null,
   "metadata": {},
   "outputs": [],
   "source": []
  },
  {
   "cell_type": "markdown",
   "metadata": {},
   "source": [
    "##### use `nx.common_neighbors(G, node1, node2)` to get the common neighbors of two nodes"
   ]
  },
  {
   "cell_type": "code",
   "execution_count": null,
   "metadata": {},
   "outputs": [],
   "source": []
  },
  {
   "cell_type": "markdown",
   "metadata": {},
   "source": [
    "##### using subscript notation:"
   ]
  },
  {
   "cell_type": "code",
   "execution_count": null,
   "metadata": {},
   "outputs": [],
   "source": [
    "G[1]"
   ]
  },
  {
   "cell_type": "code",
   "execution_count": null,
   "metadata": {},
   "outputs": [],
   "source": [
    "G[1][0]"
   ]
  },
  {
   "cell_type": "code",
   "execution_count": null,
   "metadata": {},
   "outputs": [],
   "source": [
    "G.edges[1,2]"
   ]
  },
  {
   "cell_type": "markdown",
   "metadata": {},
   "source": [
    "### Adding attributes\n",
    "attributes can be added using subscript notation, for example:<br/>\n",
    "`G[0][1]['color'] = 'green'`<br/>\n",
    "`G.edges[1, 2]['color'] = \"red\"`"
   ]
  },
  {
   "cell_type": "code",
   "execution_count": null,
   "metadata": {},
   "outputs": [],
   "source": []
  },
  {
   "cell_type": "markdown",
   "metadata": {},
   "source": [
    "##### use `G.edges.data(attribute)` to access edges attribute"
   ]
  },
  {
   "cell_type": "code",
   "execution_count": null,
   "metadata": {},
   "outputs": [],
   "source": []
  },
  {
   "cell_type": "markdown",
   "metadata": {},
   "source": [
    "##### adding nodes and edges with attributes\n",
    "use a list of 2-tuple of nodes followed by an attribute dictionary, e.g., (10, {'weight': 3.1415})\n",
    "to add multiple nodes with attributes. for example: <br/>\n",
    "`G.add_nodes_from([(10, {'name' : 'Joe'}),`<br/>\n",
    "                 `(11, {'name' : 'Jack'}),`<br/>\n",
    "                 `(12, {'name' : 'Jill'})])`<br/>"
   ]
  },
  {
   "cell_type": "code",
   "execution_count": null,
   "metadata": {},
   "outputs": [],
   "source": []
  },
  {
   "cell_type": "markdown",
   "metadata": {},
   "source": [
    "##### adding multiple edges with a common attribute\n",
    " `G.add_edges_from([(11, 10), (10, 12)], status='friends')`"
   ]
  },
  {
   "cell_type": "code",
   "execution_count": null,
   "metadata": {},
   "outputs": [],
   "source": []
  },
  {
   "cell_type": "markdown",
   "metadata": {},
   "source": [
    "##### adding multiple edges with different attributes:\n",
    "`G.add_edges_from([(11, 12, {'status': 'family',`<br/>\n",
    "                         `  'color':'yellow'}), `<br/>\n",
    "                 ` (2, 3, {'weight': 8})])`<br/>"
   ]
  },
  {
   "cell_type": "code",
   "execution_count": null,
   "metadata": {},
   "outputs": [],
   "source": []
  },
  {
   "cell_type": "markdown",
   "metadata": {},
   "source": [
    "### Degree\n",
    "use `G.degree` to show the degrees of all the nodes in the graph, use subscript notation to access a specific node's degree"
   ]
  },
  {
   "cell_type": "code",
   "execution_count": null,
   "metadata": {},
   "outputs": [],
   "source": []
  },
  {
   "cell_type": "markdown",
   "metadata": {},
   "source": [
    "### Before we remove nodes lets plot our network:"
   ]
  },
  {
   "cell_type": "code",
   "execution_count": null,
   "metadata": {},
   "outputs": [],
   "source": [
    "nx.draw(G, with_labels=True, font_weight='bold')"
   ]
  },
  {
   "cell_type": "markdown",
   "metadata": {},
   "source": [
    "### Removing nodes and edges\n",
    "use `G.remove_node(node)` to remove a single node\n"
   ]
  },
  {
   "cell_type": "code",
   "execution_count": null,
   "metadata": {},
   "outputs": [],
   "source": [
    "##remove node 3\n"
   ]
  },
  {
   "cell_type": "code",
   "execution_count": null,
   "metadata": {},
   "outputs": [],
   "source": [
    "##list the neighbors of node 1\n"
   ]
  },
  {
   "cell_type": "markdown",
   "metadata": {},
   "source": [
    "use `G.remove_nodes_from(list of nodes)` to remove multiple nodes"
   ]
  },
  {
   "cell_type": "code",
   "execution_count": null,
   "metadata": {},
   "outputs": [],
   "source": []
  },
  {
   "cell_type": "markdown",
   "metadata": {},
   "source": [
    "use `G.remove_edge(edge)` to remove a single edge\n",
    "for example : `G.remove_edge(0, 1)`"
   ]
  },
  {
   "cell_type": "code",
   "execution_count": null,
   "metadata": {},
   "outputs": [],
   "source": []
  },
  {
   "cell_type": "markdown",
   "metadata": {},
   "source": [
    "use `G.remove_edges_from(list of edges )` to remove a single edge\n",
    "for example : `G.remove_edges_from([(0, 1), (1,2)])`"
   ]
  },
  {
   "cell_type": "code",
   "execution_count": null,
   "metadata": {},
   "outputs": [],
   "source": []
  },
  {
   "cell_type": "markdown",
   "metadata": {},
   "source": [
    "use `G.clear` to remove all the nodes and edges in the network"
   ]
  },
  {
   "cell_type": "code",
   "execution_count": null,
   "metadata": {},
   "outputs": [],
   "source": []
  },
  {
   "cell_type": "code",
   "execution_count": null,
   "metadata": {},
   "outputs": [],
   "source": [
    "print(G.edges, G.nodes)"
   ]
  },
  {
   "cell_type": "markdown",
   "metadata": {},
   "source": [
    "## Exercise"
   ]
  },
  {
   "cell_type": "markdown",
   "metadata": {},
   "source": [
    "<h3 style=\"color:red\">Creating graphs using networkX</h3>\n",
    "<ol>\n",
    "    <li>Create an undirected graph using the example graph used in class \n",
    "        (<a href = \"https://docs.google.com/presentation/d/1D8F5qr_OH92zmD_H0j14t03pZKA9SsxtjDhfAXebCdk/edit?usp=sharing\"> https://docs.google.com/presentation/d/1D8F5qr_OH92zmD_H0j14t03pZKA9SsxtjDhfAXebCdk/edit?usp=sharing </a>)\n",
    "    </li>\n",
    "    <li>What is the largest node degree in the graph?\n",
    "    </li>\n",
    "    <li>What is the smallest node degree in the graph?\n",
    "    </li>\n",
    "    <li>What are the common neighbors of node 1 and 2?\n",
    "    </li>\n",
    "    <li>What nodes are not neighbors of node 5?\n",
    "    </li>\n",
    "    <li>What is the sum of the degrees in the graph?\n",
    "    </li>\n",
    "    <li>What is the size in the graph?\n",
    "    </li>\n",
    "    <li>What is the order in the graph?\n",
    "    </li>\n",
    "    <li>Modify the graph such that all of its components are connected\n",
    "    </li>\n",
    "</ol>\n",
    "\n",
    "present the answers in code"
   ]
  },
  {
   "cell_type": "code",
   "execution_count": null,
   "metadata": {},
   "outputs": [],
   "source": []
  },
  {
   "cell_type": "markdown",
   "metadata": {},
   "source": [
    "### Creating a directed graph\n",
    "The DiGraph class provides additional properties specific to directed edges, e.g., `DiGraph.out_edges()`, `DiGraph.in_degree()`, `DiGraph.predecessors()`, `DiGraph.successors()` etc. To allow algorithms to work with both classes easily, the directed versions of `neighbors()` is equivalent to `successors()` while degree reports the sum of in_degree and out_degree."
   ]
  },
  {
   "cell_type": "markdown",
   "metadata": {},
   "source": [
    "## Exercise"
   ]
  },
  {
   "cell_type": "markdown",
   "metadata": {},
   "source": [
    "<h3 style=\"color:red\">Creating directed networks using networkX</h3>\n",
    "<ol>\n",
    "    <li>Create a directed graph using the example graph used in class\n",
    "    </li>\n",
    "    \n",
    "</ol>\n",
    "\n",
    "present the answers in code"
   ]
  },
  {
   "cell_type": "code",
   "execution_count": null,
   "metadata": {},
   "outputs": [],
   "source": []
  }
 ],
 "metadata": {
  "kernelspec": {
   "display_name": "Python 3",
   "language": "python",
   "name": "python3"
  },
  "language_info": {
   "codemirror_mode": {
    "name": "ipython",
    "version": 3
   },
   "file_extension": ".py",
   "mimetype": "text/x-python",
   "name": "python",
   "nbconvert_exporter": "python",
   "pygments_lexer": "ipython3",
   "version": "3.7.3"
  }
 },
 "nbformat": 4,
 "nbformat_minor": 2
}
