{
 "cells": [
  {
   "cell_type": "markdown",
   "metadata": {},
   "source": [
    "# Representing different types of networks in NetworkX"
   ]
  },
  {
   "cell_type": "code",
   "execution_count": 1,
   "metadata": {},
   "outputs": [],
   "source": [
    "import networkx as nx\n",
    "import matplotlib.pyplot as plt\n",
    "%matplotlib inline"
   ]
  },
  {
   "cell_type": "markdown",
   "metadata": {},
   "source": [
    "### Creating a directed graph"
   ]
  },
  {
   "cell_type": "code",
   "execution_count": 2,
   "metadata": {},
   "outputs": [],
   "source": [
    "DG=nx.DiGraph()\n",
    "DG.add_edge(1,2)"
   ]
  },
  {
   "cell_type": "markdown",
   "metadata": {},
   "source": [
    "## Exercise"
   ]
  },
  {
   "cell_type": "markdown",
   "metadata": {},
   "source": [
    "<h3 style=\"color:red\">Creating directed networks using networkX</h3>\n",
    "<ol>\n",
    "    <li>Create a directed graph using `nx.DiGraph()`using the example graph used in class\n",
    "        <a href='https://docs.google.com/presentation/d/11zyGGEAclsJtwRdAUTTJQIfbE4Oc-_5eoxIGfSkAlYg/edit?usp=sharing'>https://docs.google.com/presentation/d/11zyGGEAclsJtwRdAUTTJQIfbE4Oc-_5eoxIGfSkAlYg/edit?usp=sharing</a>\n",
    "    </li>\n",
    "    \n",
    "</ol>\n",
    "\n",
    "present the answers in code"
   ]
  },
  {
   "cell_type": "code",
   "execution_count": 3,
   "metadata": {},
   "outputs": [],
   "source": []
  },
  {
   "cell_type": "markdown",
   "metadata": {},
   "source": [
    "<p style = \"color:blue\">In NetworkX, the directed versions of neighbors() is equivalent to successors() while degree reports the sum of in_degree and out_degree</p><br/>\n"
   ]
  },
  {
   "cell_type": "markdown",
   "metadata": {},
   "source": [
    "inspect the neighbors, in-degrees and out-degrees of nodes using\n",
    "`nx.DiGraph().in_degree`,\n",
    "`nx.DiGraph().out_degree`,\n",
    "`nx.DiGraph().successors`,\n",
    "`nx.DiGraph().predecessors`,\n",
    "`nx.DiGraph().neighbors`"
   ]
  },
  {
   "cell_type": "code",
   "execution_count": null,
   "metadata": {},
   "outputs": [],
   "source": []
  },
  {
   "cell_type": "markdown",
   "metadata": {},
   "source": [
    "##### to convert a directed graph to undirected use `nx.DiGraph().to_undirected()` or `nx.Graph(G)` "
   ]
  },
  {
   "cell_type": "code",
   "execution_count": 11,
   "metadata": {},
   "outputs": [],
   "source": []
  },
  {
   "cell_type": "markdown",
   "metadata": {},
   "source": [
    "### creating a weighted graph:\n",
    "`G=nx.Graph()\n",
    "G.add_edge(1,2, weight = 3)`\n",
    "### or:\n",
    "`DG=nx.DiGraph()\n",
    "DG.add_weighted_edges_from([(0,3, 2), (1,0,3),])`"
   ]
  },
  {
   "cell_type": "code",
   "execution_count": 14,
   "metadata": {},
   "outputs": [],
   "source": []
  },
  {
   "cell_type": "markdown",
   "metadata": {},
   "source": [
    "## Exercise"
   ]
  },
  {
   "cell_type": "markdown",
   "metadata": {},
   "source": [
    "<h3 style=\"color:red\">Creating weighted networks using networkX</h3>\n",
    "<ol>\n",
    "    <li>Create a weighted graph using the exaple graph used in class\n",
    "    </li>\n",
    "    \n",
    "</ol>\n",
    "\n",
    "present the answers in code"
   ]
  },
  {
   "cell_type": "code",
   "execution_count": 15,
   "metadata": {},
   "outputs": [],
   "source": []
  },
  {
   "cell_type": "markdown",
   "metadata": {},
   "source": [
    "### creating a signed graph\n",
    "`G=nx.Graph()\n",
    "G.add_edge(1,2, sign= '+')`"
   ]
  },
  {
   "cell_type": "code",
   "execution_count": 19,
   "metadata": {},
   "outputs": [
    {
     "data": {
      "text/plain": [
       "{1: {}, 2: {}}"
      ]
     },
     "execution_count": 19,
     "metadata": {},
     "output_type": "execute_result"
    }
   ],
   "source": []
  },
  {
   "cell_type": "markdown",
   "metadata": {},
   "source": [
    "### creating a multigraph:\n",
    "`G=nx.MultiGraph()\n",
    "G.add_edge('A','B', relation= 'colleague')\n",
    "G.add_edge('A','B', relation= 'cousin')\n",
    "`"
   ]
  },
  {
   "cell_type": "code",
   "execution_count": null,
   "metadata": {},
   "outputs": [],
   "source": []
  },
  {
   "cell_type": "code",
   "execution_count": null,
   "metadata": {},
   "outputs": [],
   "source": [
    "from networkx.algorithms import bipartite"
   ]
  },
  {
   "cell_type": "markdown",
   "metadata": {},
   "source": [
    "### creating a Bipartite graph:\n",
    "      \n",
    "`B = nx.Graph()\n",
    "B.add_nodes_from([1,2,3,4,5], bipartite=0)\n",
    "B.add_nodes_from(['a', 'b', 'c', 'd','e'], bipartite=1)\n",
    "B.add_edges_from([('a',3), ('b',5), ('d',1), ('e',3)])`"
   ]
  },
  {
   "cell_type": "code",
   "execution_count": null,
   "metadata": {},
   "outputs": [],
   "source": []
  },
  {
   "cell_type": "markdown",
   "metadata": {},
   "source": [
    "check if bipartite:\n",
    "`bipartite.is_bipartite(B)`"
   ]
  },
  {
   "cell_type": "code",
   "execution_count": null,
   "metadata": {},
   "outputs": [],
   "source": []
  },
  {
   "cell_type": "markdown",
   "metadata": {},
   "source": [
    "try to add edges in the \\same partition and then chech if bipartite:"
   ]
  },
  {
   "cell_type": "code",
   "execution_count": null,
   "metadata": {},
   "outputs": [],
   "source": []
  },
  {
   "cell_type": "markdown",
   "metadata": {},
   "source": [
    "check if a set of nodes is a bipartition\n",
    "\n",
    "`my_set =  = set([1,2,3,4])\n",
    "bipartite.is_bipartite_node_set(B,my_set)`"
   ]
  },
  {
   "cell_type": "code",
   "execution_count": null,
   "metadata": {},
   "outputs": [],
   "source": []
  },
  {
   "cell_type": "markdown",
   "metadata": {},
   "source": [
    "get the sets:\n",
    "`bipartite.sets(B)`"
   ]
  },
  {
   "cell_type": "code",
   "execution_count": null,
   "metadata": {},
   "outputs": [],
   "source": []
  },
  {
   "cell_type": "markdown",
   "metadata": {},
   "source": [
    "## Exercise"
   ]
  },
  {
   "cell_type": "markdown",
   "metadata": {},
   "source": [
    "<h3 style=\"color:red\">Importing Data From a File, using pandas DataFrame</h3>\n",
    "<ol>\n",
    "    <li>use `pd.read_csv` to upload the texts.csv file from the data folder\n",
    "    </li>\n",
    "    <li>choose what type of network is suitable to represent this network\n",
    "    </li>\n",
    "    <li>choose what type of network is suitable to represent this network\n",
    "    and import the data\n",
    "    </li>\n",
    "    <li>use `nx.write_gml` to save your network\n",
    "    </li>\n",
    "    \n",
    "    \n",
    "</ol>\n",
    "\n",
    "present the answers in code"
   ]
  }
 ],
 "metadata": {
  "kernelspec": {
   "display_name": "Python 3",
   "language": "python",
   "name": "python3"
  },
  "language_info": {
   "codemirror_mode": {
    "name": "ipython",
    "version": 3
   },
   "file_extension": ".py",
   "mimetype": "text/x-python",
   "name": "python",
   "nbconvert_exporter": "python",
   "pygments_lexer": "ipython3",
   "version": "3.7.3"
  }
 },
 "nbformat": 4,
 "nbformat_minor": 2
}
