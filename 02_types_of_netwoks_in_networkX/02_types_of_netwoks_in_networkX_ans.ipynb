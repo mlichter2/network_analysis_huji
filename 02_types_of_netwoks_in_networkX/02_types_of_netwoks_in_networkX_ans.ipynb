{
 "cells": [
  {
   "cell_type": "markdown",
   "metadata": {},
   "source": [
    "# Representing different types of networks in NetworkX"
   ]
  },
  {
   "cell_type": "code",
   "execution_count": 8,
   "metadata": {},
   "outputs": [],
   "source": [
    "import networkx as nx\n",
    "import matplotlib.pyplot as plt\n",
    "%matplotlib inline"
   ]
  },
  {
   "cell_type": "markdown",
   "metadata": {},
   "source": [
    "### Creating a directed graph"
   ]
  },
  {
   "cell_type": "code",
   "execution_count": 9,
   "metadata": {},
   "outputs": [],
   "source": [
    "DG=nx.DiGraph()\n",
    "DG.add_edge(1,2)"
   ]
  },
  {
   "cell_type": "markdown",
   "metadata": {},
   "source": [
    "## Exercise"
   ]
  },
  {
   "cell_type": "markdown",
   "metadata": {},
   "source": [
    "<h3 style=\"color:red\">Creating directed networks using networkX</h3>\n",
    "<ol>\n",
    "    <li>Create a directed graph using `nx.DiGraph()`using the example graph used in class\n",
    "        <a href='https://docs.google.com/presentation/d/11zyGGEAclsJtwRdAUTTJQIfbE4Oc-_5eoxIGfSkAlYg/edit?usp=sharing'>https://docs.google.com/presentation/d/11zyGGEAclsJtwRdAUTTJQIfbE4Oc-_5eoxIGfSkAlYg/edit?usp=sharing</a>\n",
    "    </li>\n",
    "    \n",
    "</ol>\n",
    "\n",
    "present the answers in code"
   ]
  },
  {
   "cell_type": "code",
   "execution_count": 10,
   "metadata": {},
   "outputs": [],
   "source": [
    "DG=nx.DiGraph()\n",
    "DG.add_edges_from([(0,3), (1,0), (1,2), (2,5),(2,0), (5,7), (8,7), (6,4)])"
   ]
  },
  {
   "cell_type": "code",
   "execution_count": 11,
   "metadata": {},
   "outputs": [
    {
     "data": {
      "text/plain": [
       "OutEdgeView([(0, 3), (1, 0), (1, 2), (2, 5), (2, 0), (5, 7), (8, 7), (6, 4)])"
      ]
     },
     "execution_count": 11,
     "metadata": {},
     "output_type": "execute_result"
    }
   ],
   "source": [
    "DG.edges"
   ]
  },
  {
   "cell_type": "code",
   "execution_count": 12,
   "metadata": {},
   "outputs": [
    {
     "data": {
      "image/png": "[encoded data removed]",
      "text/plain": [
       "<Figure size 432x288 with 1 Axes>"
      ]
     },
     "metadata": {},
     "output_type": "display_data"
    }
   ],
   "source": [
    "nx.draw(DG, with_labels=True, font_weight='bold')"
   ]
  },
  {
   "cell_type": "markdown",
   "metadata": {},
   "source": [
    "<p style = \"color:blue\">In NetworkX, the directed versions of neighbors() is equivalent to successors() while degree reports the sum of in_degree and out_degree</p><br/>\n"
   ]
  },
  {
   "cell_type": "markdown",
   "metadata": {},
   "source": [
    "inspect the neighbors, in-degrees and out-degrees of nodes using\n",
    "`nx.DiGraph().in_degree`,\n",
    "`nx.DiGraph().out_degree`,\n",
    "`nx.DiGraph().successors`,\n",
    "`nx.DiGraph().predecessors`,\n",
    "`nx.DiGraph().neighbors`"
   ]
  },
  {
   "cell_type": "code",
   "execution_count": 13,
   "metadata": {},
   "outputs": [
    {
     "data": {
      "text/plain": [
       "0"
      ]
     },
     "execution_count": 13,
     "metadata": {},
     "output_type": "execute_result"
    }
   ],
   "source": [
    "DG.in_degree(1)"
   ]
  },
  {
   "cell_type": "code",
   "execution_count": 14,
   "metadata": {},
   "outputs": [
    {
     "data": {
      "text/plain": [
       "2"
      ]
     },
     "execution_count": 14,
     "metadata": {},
     "output_type": "execute_result"
    }
   ],
   "source": [
    "DG.degree(1)"
   ]
  },
  {
   "cell_type": "code",
   "execution_count": 15,
   "metadata": {},
   "outputs": [
    {
     "data": {
      "text/plain": [
       "[5, 0]"
      ]
     },
     "execution_count": 15,
     "metadata": {},
     "output_type": "execute_result"
    }
   ],
   "source": [
    "list(DG.successors(2))"
   ]
  },
  {
   "cell_type": "code",
   "execution_count": 16,
   "metadata": {},
   "outputs": [
    {
     "data": {
      "text/plain": [
       "[1]"
      ]
     },
     "execution_count": 16,
     "metadata": {},
     "output_type": "execute_result"
    }
   ],
   "source": [
    "list(DG.predecessors(2))"
   ]
  },
  {
   "cell_type": "code",
   "execution_count": 17,
   "metadata": {},
   "outputs": [
    {
     "data": {
      "text/plain": [
       "[5, 0]"
      ]
     },
     "execution_count": 17,
     "metadata": {},
     "output_type": "execute_result"
    }
   ],
   "source": [
    "list(DG.neighbors(2))"
   ]
  },
  {
   "cell_type": "code",
   "execution_count": 18,
   "metadata": {},
   "outputs": [
    {
     "data": {
      "text/plain": [
       "[]"
      ]
     },
     "execution_count": 18,
     "metadata": {},
     "output_type": "execute_result"
    }
   ],
   "source": [
    "list(DG.successors(4))"
   ]
  },
  {
   "cell_type": "code",
   "execution_count": 19,
   "metadata": {},
   "outputs": [
    {
     "data": {
      "text/plain": [
       "[4]"
      ]
     },
     "execution_count": 19,
     "metadata": {},
     "output_type": "execute_result"
    }
   ],
   "source": [
    "list(DG.successors(6))"
   ]
  },
  {
   "cell_type": "markdown",
   "metadata": {},
   "source": [
    "##### to convert a directed graph to undirected use `nx.DiGraph().to_undirected()` or `nx.Graph(G)` "
   ]
  },
  {
   "cell_type": "code",
   "execution_count": 20,
   "metadata": {},
   "outputs": [],
   "source": [
    "G = DG.to_undirected()"
   ]
  },
  {
   "cell_type": "markdown",
   "metadata": {},
   "source": [
    "##### or"
   ]
  },
  {
   "cell_type": "code",
   "execution_count": 21,
   "metadata": {},
   "outputs": [],
   "source": [
    "G = nx.Graph(DG)"
   ]
  },
  {
   "cell_type": "code",
   "execution_count": 22,
   "metadata": {},
   "outputs": [
    {
     "name": "stdout",
     "output_type": "stream",
     "text": [
      "[6] []\n"
     ]
    }
   ],
   "source": [
    "print(list(G.neighbors(4)), list(DG.neighbors(4)))"
   ]
  },
  {
   "cell_type": "markdown",
   "metadata": {},
   "source": [
    "### creating a weighted graph:\n",
    "`G=nx.Graph()\n",
    "G.add_edge(1,2, weight = 3)`\n",
    "### or:\n",
    "`DG=nx.DiGraph()\n",
    "DG.add_weighted_edges_from([(0,3, 2), (1,0,3),])`"
   ]
  },
  {
   "cell_type": "code",
   "execution_count": 23,
   "metadata": {},
   "outputs": [],
   "source": [
    "G=nx.Graph()\n",
    "G.add_edge(1,2, weight = 3)"
   ]
  },
  {
   "cell_type": "markdown",
   "metadata": {},
   "source": [
    "## Exercise"
   ]
  },
  {
   "cell_type": "markdown",
   "metadata": {},
   "source": [
    "<h3 style=\"color:red\">Creating weighted networks using networkX</h3>\n",
    "<ol>\n",
    "    <li>Create a weighted graph using the exaple graph used in class\n",
    "    </li>\n",
    "    \n",
    "</ol>\n",
    "\n",
    "present the answers in code"
   ]
  },
  {
   "cell_type": "code",
   "execution_count": 24,
   "metadata": {},
   "outputs": [],
   "source": [
    "DG=nx.DiGraph()\n",
    "DG.add_weighted_edges_from([(0,3, 2), \n",
    "                   (1,0,3),\n",
    "                   (1,2,5),\n",
    "                   (2,5,4),\n",
    "                   (2,0,5),\n",
    "                   (5,7,3),\n",
    "                   (8,7,8),\n",
    "                   (6,4,1)])"
   ]
  },
  {
   "cell_type": "code",
   "execution_count": 25,
   "metadata": {},
   "outputs": [
    {
     "data": {
      "text/plain": [
       "OutEdgeView([(0, 3), (1, 0), (1, 2), (2, 5), (2, 0), (5, 7), (8, 7), (6, 4)])"
      ]
     },
     "execution_count": 25,
     "metadata": {},
     "output_type": "execute_result"
    }
   ],
   "source": [
    "DG.edges"
   ]
  },
  {
   "cell_type": "code",
   "execution_count": 26,
   "metadata": {},
   "outputs": [
    {
     "data": {
      "image/png": "[encoded data removed]",
      "text/plain": [
       "<Figure size 432x288 with 1 Axes>"
      ]
     },
     "metadata": {},
     "output_type": "display_data"
    }
   ],
   "source": [
    "nx.draw(DG, with_labels=True, font_weight='bold')"
   ]
  },
  {
   "cell_type": "markdown",
   "metadata": {},
   "source": [
    "### creating a signed graph\n",
    "`G=nx.Graph()\n",
    "G.add_edge(1,2, sign= '+')`"
   ]
  },
  {
   "cell_type": "code",
   "execution_count": 27,
   "metadata": {},
   "outputs": [
    {
     "data": {
      "text/plain": [
       "{(1, 2): {'sign': '+'}}"
      ]
     },
     "execution_count": 27,
     "metadata": {},
     "output_type": "execute_result"
    }
   ],
   "source": [
    "G=nx.Graph()\n",
    "G.add_edge(1,2, sign= '+')\n",
    "edges = dict(G.edges)\n",
    "edges"
   ]
  },
  {
   "cell_type": "code",
   "execution_count": 28,
   "metadata": {},
   "outputs": [
    {
     "data": {
      "text/plain": [
       "{1: {}, 2: {}}"
      ]
     },
     "execution_count": 28,
     "metadata": {},
     "output_type": "execute_result"
    }
   ],
   "source": [
    "nodes = dict(G.nodes)\n",
    "nodes"
   ]
  },
  {
   "cell_type": "markdown",
   "metadata": {},
   "source": [
    "### creating a multigraph:\n",
    "`G=nx.MultiGraph()\n",
    "G.add_edge('A','B', relation= 'colleague')\n",
    "G.add_edge('A','B', relation= 'cousin')\n",
    "`"
   ]
  },
  {
   "cell_type": "code",
   "execution_count": 29,
   "metadata": {},
   "outputs": [
    {
     "data": {
      "text/plain": [
       "1"
      ]
     },
     "execution_count": 29,
     "metadata": {},
     "output_type": "execute_result"
    }
   ],
   "source": [
    "G=nx.MultiGraph()\n",
    "G.add_edge('A','B', relation= 'colleague')\n",
    "G.add_edge('A','B', relation= 'cousin')"
   ]
  },
  {
   "cell_type": "code",
   "execution_count": 30,
   "metadata": {},
   "outputs": [],
   "source": [
    "from networkx.algorithms import bipartite"
   ]
  },
  {
   "cell_type": "markdown",
   "metadata": {},
   "source": [
    "### creating a Bipartite graph:\n",
    "      \n",
    "`B = nx.Graph()\n",
    "B.add_nodes_from([1,2,3,4,5], bipartite=0)\n",
    "B.add_nodes_from(['a', 'b', 'c', 'd','e'], bipartite=1)\n",
    "B.add_edges_from([('a',3), ('b',5), ('d',1), ('e',3)])`"
   ]
  },
  {
   "cell_type": "code",
   "execution_count": 31,
   "metadata": {},
   "outputs": [],
   "source": [
    "B = nx.Graph()\n",
    "B.add_nodes_from([1,2,3,4,5], bipartite=0)\n",
    "B.add_nodes_from(['a', 'b', 'c', 'd','e'], bipartite=1)\n",
    "B.add_edges_from([('a',3), ('b',5), ('d',1), ('e',3), ('a', 2), ('c', 4), ('b', 4), ('c', 1), ('a', 4)])"
   ]
  },
  {
   "cell_type": "markdown",
   "metadata": {},
   "source": [
    "check if bipartite:\n",
    "`bipartite.is_bipartite(B)`"
   ]
  },
  {
   "cell_type": "code",
   "execution_count": 32,
   "metadata": {},
   "outputs": [
    {
     "data": {
      "text/plain": [
       "True"
      ]
     },
     "execution_count": 32,
     "metadata": {},
     "output_type": "execute_result"
    }
   ],
   "source": [
    "bipartite.is_bipartite(B)"
   ]
  },
  {
   "cell_type": "markdown",
   "metadata": {},
   "source": [
    "try to add edges in the \\same partition and then chech if bipartite:"
   ]
  },
  {
   "cell_type": "code",
   "execution_count": 33,
   "metadata": {},
   "outputs": [],
   "source": [
    "B.add_edges_from([('a','c')])"
   ]
  },
  {
   "cell_type": "code",
   "execution_count": 34,
   "metadata": {},
   "outputs": [
    {
     "data": {
      "text/plain": [
       "False"
      ]
     },
     "execution_count": 34,
     "metadata": {},
     "output_type": "execute_result"
    }
   ],
   "source": [
    "bipartite.is_bipartite(B)"
   ]
  },
  {
   "cell_type": "code",
   "execution_count": 35,
   "metadata": {},
   "outputs": [],
   "source": [
    "B.remove_edges_from([('a','c')])"
   ]
  },
  {
   "cell_type": "code",
   "execution_count": 36,
   "metadata": {},
   "outputs": [
    {
     "data": {
      "text/plain": [
       "True"
      ]
     },
     "execution_count": 36,
     "metadata": {},
     "output_type": "execute_result"
    }
   ],
   "source": [
    "bipartite.is_bipartite(B)"
   ]
  },
  {
   "cell_type": "markdown",
   "metadata": {},
   "source": [
    "check if a set of nodes is a bipartition\n",
    "\n",
    "`my_set =  = set([1,2,3,4])\n",
    "bipartite.is_bipartite_node_set(B,my_set)`"
   ]
  },
  {
   "cell_type": "code",
   "execution_count": 37,
   "metadata": {},
   "outputs": [
    {
     "data": {
      "text/plain": [
       "False"
      ]
     },
     "execution_count": 37,
     "metadata": {},
     "output_type": "execute_result"
    }
   ],
   "source": [
    "my_set = set(['a', 'b', 'c', 'd'])\n",
    "bipartite.is_bipartite_node_set(B,my_set)"
   ]
  },
  {
   "cell_type": "code",
   "execution_count": 38,
   "metadata": {},
   "outputs": [
    {
     "data": {
      "text/plain": [
       "True"
      ]
     },
     "execution_count": 38,
     "metadata": {},
     "output_type": "execute_result"
    }
   ],
   "source": [
    "my_set = set([1,2,3,4, 5])\n",
    "bipartite.is_bipartite_node_set(B,my_set)"
   ]
  },
  {
   "cell_type": "markdown",
   "metadata": {},
   "source": [
    "get the sets:\n",
    "`bipartite.sets(B)`"
   ]
  },
  {
   "cell_type": "code",
   "execution_count": 39,
   "metadata": {},
   "outputs": [
    {
     "data": {
      "text/plain": [
       "EdgeView([(1, 'd'), (1, 'c'), (2, 'a'), (3, 'a'), (3, 'e'), (4, 'c'), (4, 'b'), (4, 'a'), (5, 'b')])"
      ]
     },
     "execution_count": 39,
     "metadata": {},
     "output_type": "execute_result"
    }
   ],
   "source": [
    "B.edges"
   ]
  },
  {
   "cell_type": "code",
   "execution_count": 40,
   "metadata": {},
   "outputs": [
    {
     "data": {
      "text/plain": [
       "True"
      ]
     },
     "execution_count": 40,
     "metadata": {},
     "output_type": "execute_result"
    }
   ],
   "source": [
    "nx.is_connected(B)"
   ]
  },
  {
   "cell_type": "code",
   "execution_count": 41,
   "metadata": {},
   "outputs": [
    {
     "data": {
      "image/png": "[encoded data removed]",
      "text/plain": [
       "<Figure size 432x288 with 1 Axes>"
      ]
     },
     "metadata": {},
     "output_type": "display_data"
    }
   ],
   "source": [
    "nx.draw(B, with_labels = True)"
   ]
  },
  {
   "cell_type": "code",
   "execution_count": 42,
   "metadata": {},
   "outputs": [
    {
     "data": {
      "text/plain": [
       "({1, 2, 3, 4, 5}, {'a', 'b', 'c', 'd', 'e'})"
      ]
     },
     "execution_count": 42,
     "metadata": {},
     "output_type": "execute_result"
    }
   ],
   "source": [
    "bipartite.sets(B)"
   ]
  },
  {
   "cell_type": "markdown",
   "metadata": {},
   "source": [
    "## Exercise"
   ]
  },
  {
   "cell_type": "markdown",
   "metadata": {},
   "source": [
    "<h3 style=\"color:red\">Importing Data From a File, using pandas DataFrame</h3>\n",
    "<ol>\n",
    "    <li>use `pd.read_csv` to upload the texts.csv file from the data folder\n",
    "    </li>\n",
    "    <li>choose what type of network is suitable to represent this network\n",
    "    </li>\n",
    "    <li>choose what type of network is suitable to represent this network\n",
    "    and import the data\n",
    "    </li>\n",
    "    <li>use `nx.write_gml` to save your network\n",
    "    </li>\n",
    "    \n",
    "    \n",
    "</ol>\n",
    "\n",
    "present the answers in code"
   ]
  },
  {
   "cell_type": "code",
   "execution_count": 43,
   "metadata": {},
   "outputs": [],
   "source": [
    "import pandas as pd"
   ]
  },
  {
   "cell_type": "code",
   "execution_count": 44,
   "metadata": {},
   "outputs": [],
   "source": [
    "df = pd.read_csv('../data/texts.csv')"
   ]
  },
  {
   "cell_type": "code",
   "execution_count": 45,
   "metadata": {},
   "outputs": [
    {
     "data": {
      "text/html": [
       "<div>\n",
       "<style scoped>\n",
       "    .dataframe tbody tr th:only-of-type {\n",
       "        vertical-align: middle;\n",
       "    }\n",
       "\n",
       "    .dataframe tbody tr th {\n",
       "        vertical-align: top;\n",
       "    }\n",
       "\n",
       "    .dataframe thead th {\n",
       "        text-align: right;\n",
       "    }\n",
       "</style>\n",
       "<table border=\"1\" class=\"dataframe\">\n",
       "  <thead>\n",
       "    <tr style=\"text-align: right;\">\n",
       "      <th></th>\n",
       "      <th>Unnamed: 0</th>\n",
       "      <th>from</th>\n",
       "      <th>to</th>\n",
       "      <th>count</th>\n",
       "    </tr>\n",
       "  </thead>\n",
       "  <tbody>\n",
       "    <tr>\n",
       "      <th>0</th>\n",
       "      <td>0</td>\n",
       "      <td>Angel</td>\n",
       "      <td>Grace</td>\n",
       "      <td>41</td>\n",
       "    </tr>\n",
       "    <tr>\n",
       "      <th>1</th>\n",
       "      <td>1</td>\n",
       "      <td>Savannah</td>\n",
       "      <td>Zachary</td>\n",
       "      <td>50</td>\n",
       "    </tr>\n",
       "    <tr>\n",
       "      <th>2</th>\n",
       "      <td>2</td>\n",
       "      <td>William</td>\n",
       "      <td>Madison</td>\n",
       "      <td>50</td>\n",
       "    </tr>\n",
       "    <tr>\n",
       "      <th>3</th>\n",
       "      <td>3</td>\n",
       "      <td>John</td>\n",
       "      <td>Jessica</td>\n",
       "      <td>58</td>\n",
       "    </tr>\n",
       "    <tr>\n",
       "      <th>4</th>\n",
       "      <td>4</td>\n",
       "      <td>Jackson</td>\n",
       "      <td>Daniel</td>\n",
       "      <td>48</td>\n",
       "    </tr>\n",
       "    <tr>\n",
       "      <th>5</th>\n",
       "      <td>5</td>\n",
       "      <td>Benjamin</td>\n",
       "      <td>Kayla</td>\n",
       "      <td>40</td>\n",
       "    </tr>\n",
       "    <tr>\n",
       "      <th>6</th>\n",
       "      <td>6</td>\n",
       "      <td>Gabriel</td>\n",
       "      <td>Katherine</td>\n",
       "      <td>43</td>\n",
       "    </tr>\n",
       "    <tr>\n",
       "      <th>7</th>\n",
       "      <td>7</td>\n",
       "      <td>Ryan</td>\n",
       "      <td>Nicholas</td>\n",
       "      <td>46</td>\n",
       "    </tr>\n",
       "    <tr>\n",
       "      <th>8</th>\n",
       "      <td>8</td>\n",
       "      <td>Brandon</td>\n",
       "      <td>Grace</td>\n",
       "      <td>55</td>\n",
       "    </tr>\n",
       "    <tr>\n",
       "      <th>9</th>\n",
       "      <td>9</td>\n",
       "      <td>Stephanie</td>\n",
       "      <td>Dylan</td>\n",
       "      <td>48</td>\n",
       "    </tr>\n",
       "  </tbody>\n",
       "</table>\n",
       "</div>"
      ],
      "text/plain": [
       "   Unnamed: 0       from         to  count\n",
       "0           0      Angel      Grace     41\n",
       "1           1   Savannah    Zachary     50\n",
       "2           2    William    Madison     50\n",
       "3           3       John    Jessica     58\n",
       "4           4    Jackson     Daniel     48\n",
       "5           5   Benjamin      Kayla     40\n",
       "6           6    Gabriel  Katherine     43\n",
       "7           7       Ryan   Nicholas     46\n",
       "8           8    Brandon      Grace     55\n",
       "9           9  Stephanie      Dylan     48"
      ]
     },
     "execution_count": 45,
     "metadata": {},
     "output_type": "execute_result"
    }
   ],
   "source": [
    "df.head(10)"
   ]
  },
  {
   "cell_type": "code",
   "execution_count": 46,
   "metadata": {},
   "outputs": [],
   "source": [
    "G = nx.DiGraph()"
   ]
  },
  {
   "cell_type": "code",
   "execution_count": 47,
   "metadata": {},
   "outputs": [
    {
     "data": {
      "text/plain": [
       "[('Angel', 'Grace', {'count': 41}),\n",
       " ('Savannah', 'Zachary', {'count': 50}),\n",
       " ('William', 'Madison', {'count': 50}),\n",
       " ('John', 'Jessica', {'count': 58}),\n",
       " ('Jackson', 'Daniel', {'count': 48})]"
      ]
     },
     "execution_count": 47,
     "metadata": {},
     "output_type": "execute_result"
    }
   ],
   "source": [
    "[(x['from'], x['to'], {'count':x['count']}) for _,x in df.head().iterrows()]"
   ]
  },
  {
   "cell_type": "code",
   "execution_count": 48,
   "metadata": {},
   "outputs": [],
   "source": [
    "G.add_edges_from([(x['from'], x['to'], {'count':x['count']}) for _,x in df.iterrows()])"
   ]
  },
  {
   "cell_type": "code",
   "execution_count": 49,
   "metadata": {},
   "outputs": [],
   "source": [
    "DG=nx.DiGraph()\n",
    "DG.add_weighted_edges_from([(x['from'], x['to'], x['count']) for _,x in df.iterrows()])"
   ]
  },
  {
   "cell_type": "code",
   "execution_count": 51,
   "metadata": {},
   "outputs": [
    {
     "data": {
      "text/plain": [
       "13"
      ]
     },
     "execution_count": 51,
     "metadata": {},
     "output_type": "execute_result"
    }
   ],
   "source": [
    "DG.degree['Jasmine']"
   ]
  },
  {
   "cell_type": "code",
   "execution_count": 55,
   "metadata": {},
   "outputs": [
    {
     "data": {
      "text/plain": [
       "13"
      ]
     },
     "execution_count": 55,
     "metadata": {},
     "output_type": "execute_result"
    }
   ],
   "source": [
    "G.degree['Jasmine']"
   ]
  },
  {
   "cell_type": "code",
   "execution_count": 52,
   "metadata": {},
   "outputs": [
    {
     "data": {
      "text/plain": [
       "8"
      ]
     },
     "execution_count": 52,
     "metadata": {},
     "output_type": "execute_result"
    }
   ],
   "source": [
    "DG.in_degree['John']"
   ]
  },
  {
   "cell_type": "code",
   "execution_count": 53,
   "metadata": {},
   "outputs": [
    {
     "data": {
      "text/plain": [
       "OutDegreeView({'Angel': 10, 'Grace': 12, 'Savannah': 13, 'Zachary': 7, 'William': 11, 'Madison': 5, 'John': 14, 'Jessica': 15, 'Jackson': 10, 'Daniel': 8, 'Benjamin': 13, 'Kayla': 11, 'Gabriel': 13, 'Katherine': 9, 'Ryan': 14, 'Nicholas': 14, 'Brandon': 8, 'Stephanie': 10, 'Dylan': 11, 'Thomas': 9, 'Alexander': 12, 'Jordan': 5, 'Cameron': 14, 'Kevin': 4, 'Ava': 8, 'Emily': 7, 'Hailey': 13, 'Aaron': 10, 'Brianna': 7, 'Christian': 13, 'Isaiah': 6, 'Olivia': 8, 'Taylor': 12, 'Ashley': 14, 'Abigail': 8, 'Ethan': 10, 'Chloe': 9, 'Maria': 13, 'Jonathan': 8, 'Megan': 7, 'Nathan': 6, 'Destiny': 10, 'Ella': 14, 'Lauren': 9, 'Justin': 10, 'Luke': 8, 'Christopher': 14, 'Alexis': 13, 'Jose': 11, 'Hannah': 6, 'Morgan': 3, 'Samuel': 9, 'Lily': 8, 'Julia': 8, 'David': 14, 'Rachel': 8, 'Mason': 8, 'Tyler': 8, 'Samantha': 5, 'Elizabeth': 10, 'Kaitlyn': 13, 'Alexandra': 14, 'Sydney': 7, 'Joseph': 14, 'Michael': 11, 'Andrew': 9, 'Jason': 11, 'Noah': 7, 'Kaylee': 9, 'Brooke': 6, 'Jennifer': 10, 'Jacob': 6, 'Sophia': 9, 'Makayla': 13, 'Jack': 7, 'Caleb': 10, 'Isaac': 8, 'Logan': 16, 'Alyssa': 10, 'Emma': 9, 'Joshua': 7, 'Anthony': 9, 'Natalie': 10, 'Robert': 5, 'Haley': 9, 'Victoria': 8, 'Matthew': 13, 'Anna': 8, 'Jasmine': 3, 'Evan': 13, 'Elijah': 7, 'Mackenzie': 10, 'Allison': 10, 'Mia': 8, 'Isabella': 9, 'James': 5, 'Hunter': 6, 'Austin': 12, 'Nicole': 5, 'Sarah': 8})"
      ]
     },
     "execution_count": 53,
     "metadata": {},
     "output_type": "execute_result"
    }
   ],
   "source": [
    "DG.out_degree"
   ]
  }
 ],
 "metadata": {
  "kernelspec": {
   "display_name": "Python 3",
   "language": "python",
   "name": "python3"
  },
  "language_info": {
   "codemirror_mode": {
    "name": "ipython",
    "version": 3
   },
   "file_extension": ".py",
   "mimetype": "text/x-python",
   "name": "python",
   "nbconvert_exporter": "python",
   "pygments_lexer": "ipython3",
   "version": "3.7.3"
  }
 },
 "nbformat": 4,
 "nbformat_minor": 2
}
