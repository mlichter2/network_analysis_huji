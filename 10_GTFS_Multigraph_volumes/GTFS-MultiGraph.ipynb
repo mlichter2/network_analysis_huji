{
 "cells": [
  {
   "cell_type": "markdown",
   "metadata": {},
   "source": [
    "# Exploring GTFS data and creating a public transportation network"
   ]
  },
  {
   "cell_type": "markdown",
   "metadata": {},
   "source": [
    "\n",
    "The General Transit Feed Specification (GTFS), also known as GTFS static or static transit to differentiate it from the GTFS realtime extension, defines a common format for public transportation schedules and associated geographic information. GTFS \"feeds\" let public transit agencies publish their transit data and developers write applications that consume that data in an interoperable way.\n",
    "\n",
    "https://developers.google.com/transit/gtfs/"
   ]
  },
  {
   "cell_type": "code",
   "execution_count": 1,
   "metadata": {},
   "outputs": [],
   "source": [
    "import networkx as nx\n",
    "import pandas as pd\n",
    "import geopandas as gpd\n",
    "from shapely.geometry import *\n",
    "import os\n",
    "import numpy as np"
   ]
  },
  {
   "cell_type": "markdown",
   "metadata": {},
   "source": [
    "### Look at the available files"
   ]
  },
  {
   "cell_type": "markdown",
   "metadata": {},
   "source": [
    "these are all the files that make Israel's entire public transportation network lines and their schedules the data can be found here:\n",
    "\n",
    "https://www.gov.il/he/Departments/General/gtfs_general_transit_feed_specifications"
   ]
  },
  {
   "cell_type": "code",
   "execution_count": 2,
   "metadata": {},
   "outputs": [
    {
     "data": {
      "text/plain": [
       "['agency.txt',\n",
       " 'calendar.txt',\n",
       " 'fare_attributes.txt',\n",
       " 'fare_rules.txt',\n",
       " 'routes.txt',\n",
       " 'shapes.txt',\n",
       " 'stops.txt',\n",
       " 'stop_times.txt',\n",
       " 'translations.txt',\n",
       " 'trips.txt']"
      ]
     },
     "execution_count": 2,
     "metadata": {},
     "output_type": "execute_result"
    }
   ],
   "source": [
    "files = os.listdir('../data/israel-public-transportation/')\n",
    "files"
   ]
  },
  {
   "cell_type": "markdown",
   "metadata": {},
   "source": [
    "### Data Description\n",
    "<ul>\n",
    "<li> agency.txt\tRequired\tDefines one or more transit agencies that have services represented in the dataset.</li>\n",
    "<li>stops.txt\tRequired\tDefines stops where vehicles pick up or drop off riders. Also defines stations and station entrances.</li>\n",
    "<li>routes.txt\tRequired\tDefines transit routes. A route is a group of trips that are displayed to riders as a single service.</li>\n",
    "<li>trips.txt\tRequired\tDefines trips for each route. A trip is a sequence of two or more stops that occur during a specific time period.</li>\n",
    "<li>stop_times.txt\tRequired\tProvides the times when a vehicle arrives at and departs from individual stops for each trip.</li>\n",
    "<li>calendar.txt\tConditionally required\tDefines service dates when service is available for particular routes. Uses a weekly schedule. This file specifies start and end dates of service, as well as the days of the week when service is available. This file is required unless all of the dates of service are defined in calendar_dates.txt.</li>\n",
    "<li>calendar_dates.txt\tConditionally required\tDefines exceptions for the services defined in the calendar.txt file. If calendar.txt is omitted, then calendar_dates.txt is required and must contain all dates of service.</li>\n",
    "<li>fare_attributes.txt\tOptional\tDefines fare information for a transit agency's routes.</li>\n",
    "<li>fare_rules.txt\tOptional\tDefines rules to apply fare information for itineraries.</li>\n",
    "<li>shapes.txt\tOptional\tDefines rules to map vehicle travel paths, sometimes referred to as route alignments.</li>\n",
    "<li>frequencies.txt\tOptional\tDescribes the headway, which is the time between trips, for routes that have a variable frequency of service. Can also provide a compressed representation of fixed-schedule services.</li>\n",
    "<li>transfers.txt\tOptional\tDefines rules for how connections are made at transfer points between routes.</li>\n",
    "<li>pathways.txt\tOptional\tDefines rules to describe the walking connections between two stops within a station, such as between an entrance and a platform. These pathways are represented as the edges of a walking graph.</li>\n",
    "<li>levels.txt\tOptional\tDefines levels within stations.\n",
    "feed_info.txt\tOptional\tProvides additional information about the feed itself, such as publisher, version, and expiration information.</li>\n",
    "    </ul>"
   ]
  },
  {
   "cell_type": "markdown",
   "metadata": {},
   "source": [
    "#### Lets look at the table of all the pt stops in Israel"
   ]
  },
  {
   "cell_type": "code",
   "execution_count": 3,
   "metadata": {},
   "outputs": [
    {
     "data": {
      "text/html": [
       "<div>\n",
       "<style scoped>\n",
       "    .dataframe tbody tr th:only-of-type {\n",
       "        vertical-align: middle;\n",
       "    }\n",
       "\n",
       "    .dataframe tbody tr th {\n",
       "        vertical-align: top;\n",
       "    }\n",
       "\n",
       "    .dataframe thead th {\n",
       "        text-align: right;\n",
       "    }\n",
       "</style>\n",
       "<table border=\"1\" class=\"dataframe\">\n",
       "  <thead>\n",
       "    <tr style=\"text-align: right;\">\n",
       "      <th></th>\n",
       "      <th>stop_id</th>\n",
       "      <th>stop_code</th>\n",
       "      <th>stop_name</th>\n",
       "      <th>stop_desc</th>\n",
       "      <th>stop_lat</th>\n",
       "      <th>stop_lon</th>\n",
       "      <th>location_type</th>\n",
       "      <th>parent_station</th>\n",
       "      <th>zone_id</th>\n",
       "    </tr>\n",
       "  </thead>\n",
       "  <tbody>\n",
       "    <tr>\n",
       "      <th>0</th>\n",
       "      <td>1</td>\n",
       "      <td>38831</td>\n",
       "      <td>בי''ס בר לב/בן יהודה</td>\n",
       "      <td>רחוב:בן יהודה 76 עיר: כפר סבא רציף:   קומה:</td>\n",
       "      <td>32.183939</td>\n",
       "      <td>34.917812</td>\n",
       "      <td>0</td>\n",
       "      <td>NaN</td>\n",
       "      <td>6900</td>\n",
       "    </tr>\n",
       "    <tr>\n",
       "      <th>1</th>\n",
       "      <td>2</td>\n",
       "      <td>38832</td>\n",
       "      <td>הרצל/צומת בילו</td>\n",
       "      <td>רחוב:הרצל  עיר: קרית עקרון רציף:   קומה:</td>\n",
       "      <td>31.870034</td>\n",
       "      <td>34.819541</td>\n",
       "      <td>0</td>\n",
       "      <td>NaN</td>\n",
       "      <td>469</td>\n",
       "    </tr>\n",
       "    <tr>\n",
       "      <th>2</th>\n",
       "      <td>3</td>\n",
       "      <td>38833</td>\n",
       "      <td>הנחשול/הדייגים</td>\n",
       "      <td>רחוב:הנחשול 30 עיר: ראשון לציון רציף:   קומה:</td>\n",
       "      <td>31.984553</td>\n",
       "      <td>34.782828</td>\n",
       "      <td>0</td>\n",
       "      <td>NaN</td>\n",
       "      <td>8300</td>\n",
       "    </tr>\n",
       "    <tr>\n",
       "      <th>3</th>\n",
       "      <td>4</td>\n",
       "      <td>38834</td>\n",
       "      <td>פריד/ששת הימים</td>\n",
       "      <td>רחוב:משה פריד 9 עיר: רחובות רציף:   קומה:</td>\n",
       "      <td>31.888550</td>\n",
       "      <td>34.790904</td>\n",
       "      <td>0</td>\n",
       "      <td>NaN</td>\n",
       "      <td>8400</td>\n",
       "    </tr>\n",
       "    <tr>\n",
       "      <th>4</th>\n",
       "      <td>6</td>\n",
       "      <td>38836</td>\n",
       "      <td>ת. מרכזית לוד/הורדה</td>\n",
       "      <td>רחוב:  עיר: לוד רציף:   קומה:</td>\n",
       "      <td>31.956576</td>\n",
       "      <td>34.898125</td>\n",
       "      <td>0</td>\n",
       "      <td>NaN</td>\n",
       "      <td>7000</td>\n",
       "    </tr>\n",
       "  </tbody>\n",
       "</table>\n",
       "</div>"
      ],
      "text/plain": [
       "   stop_id  stop_code             stop_name  \\\n",
       "0        1      38831  בי''ס בר לב/בן יהודה   \n",
       "1        2      38832        הרצל/צומת בילו   \n",
       "2        3      38833        הנחשול/הדייגים   \n",
       "3        4      38834        פריד/ששת הימים   \n",
       "4        6      38836   ת. מרכזית לוד/הורדה   \n",
       "\n",
       "                                          stop_desc   stop_lat   stop_lon  \\\n",
       "0     רחוב:בן יהודה 76 עיר: כפר סבא רציף:   קומה:    32.183939  34.917812   \n",
       "1        רחוב:הרצל  עיר: קרית עקרון רציף:   קומה:    31.870034  34.819541   \n",
       "2   רחוב:הנחשול 30 עיר: ראשון לציון רציף:   קומה:    31.984553  34.782828   \n",
       "3       רחוב:משה פריד 9 עיר: רחובות רציף:   קומה:    31.888550  34.790904   \n",
       "4                   רחוב:  עיר: לוד רציף:   קומה:    31.956576  34.898125   \n",
       "\n",
       "   location_type  parent_station  zone_id  \n",
       "0              0             NaN     6900  \n",
       "1              0             NaN      469  \n",
       "2              0             NaN     8300  \n",
       "3              0             NaN     8400  \n",
       "4              0             NaN     7000  "
      ]
     },
     "execution_count": 3,
     "metadata": {},
     "output_type": "execute_result"
    }
   ],
   "source": [
    "stops = pd.read_csv('../data/israel-public-transportation/stops.txt')\n",
    "stops.head()"
   ]
  },
  {
   "cell_type": "code",
   "execution_count": 4,
   "metadata": {},
   "outputs": [],
   "source": [
    "stops = gpd.GeoDataFrame(stops, geometry = [ Point([x['stop_lon'], x['stop_lat']]) for _, x in stops.iterrows()], \n",
    "                        crs = {'init':'epsg:4326'})"
   ]
  },
  {
   "cell_type": "code",
   "execution_count": 5,
   "metadata": {},
   "outputs": [
    {
     "data": {
      "text/plain": [
       "<matplotlib.axes._subplots.AxesSubplot at 0x7f0d9fe20278>"
      ]
     },
     "execution_count": 5,
     "metadata": {},
     "output_type": "execute_result"
    }
   ],
   "source": [
    "stops[stops['zone_id']==3000].plot(figsize = (10,10))"
   ]
  },
  {
   "cell_type": "markdown",
   "metadata": {},
   "source": [
    "#### The shapes are the geometries that make up the routes"
   ]
  },
  {
   "cell_type": "code",
   "execution_count": 6,
   "metadata": {},
   "outputs": [
    {
     "data": {
      "text/html": [
       "<div>\n",
       "<style scoped>\n",
       "    .dataframe tbody tr th:only-of-type {\n",
       "        vertical-align: middle;\n",
       "    }\n",
       "\n",
       "    .dataframe tbody tr th {\n",
       "        vertical-align: top;\n",
       "    }\n",
       "\n",
       "    .dataframe thead th {\n",
       "        text-align: right;\n",
       "    }\n",
       "</style>\n",
       "<table border=\"1\" class=\"dataframe\">\n",
       "  <thead>\n",
       "    <tr style=\"text-align: right;\">\n",
       "      <th></th>\n",
       "      <th>shape_id</th>\n",
       "      <th>shape_pt_lat</th>\n",
       "      <th>shape_pt_lon</th>\n",
       "      <th>shape_pt_sequence</th>\n",
       "    </tr>\n",
       "  </thead>\n",
       "  <tbody>\n",
       "    <tr>\n",
       "      <th>0</th>\n",
       "      <td>44779</td>\n",
       "      <td>31.887695</td>\n",
       "      <td>35.016271</td>\n",
       "      <td>1</td>\n",
       "    </tr>\n",
       "    <tr>\n",
       "      <th>1</th>\n",
       "      <td>44779</td>\n",
       "      <td>31.887745</td>\n",
       "      <td>35.016253</td>\n",
       "      <td>2</td>\n",
       "    </tr>\n",
       "    <tr>\n",
       "      <th>2</th>\n",
       "      <td>44779</td>\n",
       "      <td>31.888256</td>\n",
       "      <td>35.016238</td>\n",
       "      <td>3</td>\n",
       "    </tr>\n",
       "    <tr>\n",
       "      <th>3</th>\n",
       "      <td>44779</td>\n",
       "      <td>31.888913</td>\n",
       "      <td>35.016280</td>\n",
       "      <td>4</td>\n",
       "    </tr>\n",
       "    <tr>\n",
       "      <th>4</th>\n",
       "      <td>44779</td>\n",
       "      <td>31.888917</td>\n",
       "      <td>35.016892</td>\n",
       "      <td>5</td>\n",
       "    </tr>\n",
       "  </tbody>\n",
       "</table>\n",
       "</div>"
      ],
      "text/plain": [
       "   shape_id  shape_pt_lat  shape_pt_lon  shape_pt_sequence\n",
       "0     44779     31.887695     35.016271                  1\n",
       "1     44779     31.887745     35.016253                  2\n",
       "2     44779     31.888256     35.016238                  3\n",
       "3     44779     31.888913     35.016280                  4\n",
       "4     44779     31.888917     35.016892                  5"
      ]
     },
     "execution_count": 6,
     "metadata": {},
     "output_type": "execute_result"
    }
   ],
   "source": [
    "shapes = pd.read_csv('../data/israel-public-transportation/shapes.txt')\n",
    "shapes.head()"
   ]
  },
  {
   "cell_type": "markdown",
   "metadata": {},
   "source": [
    "#### Optional: \n",
    "    create a geodataframe from the shapes table - we will not need this for this particular analysis"
   ]
  },
  {
   "cell_type": "code",
   "execution_count": 7,
   "metadata": {},
   "outputs": [],
   "source": [
    "\n",
    "# lines = []\n",
    "# ids = []\n",
    "# for i in shapes['shape_id'].unique():\n",
    "    \n",
    "#     ## create a dataframe for each shape\n",
    "#     df2 = shapes[shapes['shape_id']==i].copy()\n",
    "    \n",
    "#     ### sort by sequence value (just in case)\n",
    "#     df2 = df2.sort_values('shape_pt_sequence')\n",
    "    \n",
    "#     ### create a list of lon, lat tuples for each point along the shape \n",
    "    \n",
    "#     l = [(x['shape_pt_lon'],x['shape_pt_lat'] ) for _, x in df2.iterrows()]\n",
    "\n",
    "#     #### create a line from the points\n",
    "#     l = LineString(l)\n",
    "#     ### append to the lines list the shape_id, \n",
    "#     lines.append(l)\n",
    "#     ids.append(i)\n",
    "\n",
    "# ###put these all together in one data frame \n",
    "# new_shapes =gpd.GeoDataFrame({\n",
    "    \n",
    "#     'shape_id':ids,\n",
    "#     'geometry':lines\n",
    "    \n",
    "# }) "
   ]
  },
  {
   "cell_type": "code",
   "execution_count": null,
   "metadata": {},
   "outputs": [],
   "source": [
    "new_shapes.plot(figsize = (15,15))"
   ]
  },
  {
   "cell_type": "markdown",
   "metadata": {},
   "source": [
    "#### Lets look at all the routes (route_short_id is what we know as the line number)"
   ]
  },
  {
   "cell_type": "code",
   "execution_count": 13,
   "metadata": {},
   "outputs": [
    {
     "data": {
      "text/html": [
       "<div>\n",
       "<style scoped>\n",
       "    .dataframe tbody tr th:only-of-type {\n",
       "        vertical-align: middle;\n",
       "    }\n",
       "\n",
       "    .dataframe tbody tr th {\n",
       "        vertical-align: top;\n",
       "    }\n",
       "\n",
       "    .dataframe thead th {\n",
       "        text-align: right;\n",
       "    }\n",
       "</style>\n",
       "<table border=\"1\" class=\"dataframe\">\n",
       "  <thead>\n",
       "    <tr style=\"text-align: right;\">\n",
       "      <th></th>\n",
       "      <th>route_id</th>\n",
       "      <th>agency_id</th>\n",
       "      <th>route_short_name</th>\n",
       "      <th>route_long_name</th>\n",
       "      <th>route_desc</th>\n",
       "      <th>route_type</th>\n",
       "      <th>route_color</th>\n",
       "    </tr>\n",
       "  </thead>\n",
       "  <tbody>\n",
       "    <tr>\n",
       "      <th>0</th>\n",
       "      <td>1</td>\n",
       "      <td>25</td>\n",
       "      <td>1</td>\n",
       "      <td>ת. רכבת יבנה מערב-יבנה&lt;-&gt;ת. רכבת יבנה מזרח-יבנ...</td>\n",
       "      <td>67001-1-#</td>\n",
       "      <td>3</td>\n",
       "      <td>NaN</td>\n",
       "    </tr>\n",
       "    <tr>\n",
       "      <th>1</th>\n",
       "      <td>2</td>\n",
       "      <td>25</td>\n",
       "      <td>1</td>\n",
       "      <td>ת. רכבת יבנה מזרח-יבנה&lt;-&gt;ת. רכבת יבנה מערב-יבנ...</td>\n",
       "      <td>67001-2-#</td>\n",
       "      <td>3</td>\n",
       "      <td>NaN</td>\n",
       "    </tr>\n",
       "    <tr>\n",
       "      <th>2</th>\n",
       "      <td>3</td>\n",
       "      <td>25</td>\n",
       "      <td>2</td>\n",
       "      <td>ת. רכבת יבנה מערב-יבנה&lt;-&gt;ת. רכבת יבנה מזרח-יבנ...</td>\n",
       "      <td>56002-1-#</td>\n",
       "      <td>3</td>\n",
       "      <td>NaN</td>\n",
       "    </tr>\n",
       "    <tr>\n",
       "      <th>3</th>\n",
       "      <td>5</td>\n",
       "      <td>25</td>\n",
       "      <td>2</td>\n",
       "      <td>ת. רכבת יבנה מזרח-יבנה&lt;-&gt;ת. רכבת יבנה מערב-יבנ...</td>\n",
       "      <td>56002-2-#</td>\n",
       "      <td>3</td>\n",
       "      <td>NaN</td>\n",
       "    </tr>\n",
       "    <tr>\n",
       "      <th>4</th>\n",
       "      <td>7</td>\n",
       "      <td>25</td>\n",
       "      <td>3</td>\n",
       "      <td>ת. רכבת יבנה מערב-יבנה&lt;-&gt;ת. רכבת יבנה מזרח-יבנ...</td>\n",
       "      <td>49003-1-#</td>\n",
       "      <td>3</td>\n",
       "      <td>NaN</td>\n",
       "    </tr>\n",
       "  </tbody>\n",
       "</table>\n",
       "</div>"
      ],
      "text/plain": [
       "   route_id  agency_id route_short_name  \\\n",
       "0         1         25                1   \n",
       "1         2         25                1   \n",
       "2         3         25                2   \n",
       "3         5         25                2   \n",
       "4         7         25                3   \n",
       "\n",
       "                                     route_long_name route_desc  route_type  \\\n",
       "0  ת. רכבת יבנה מערב-יבנה<->ת. רכבת יבנה מזרח-יבנ...  67001-1-#           3   \n",
       "1  ת. רכבת יבנה מזרח-יבנה<->ת. רכבת יבנה מערב-יבנ...  67001-2-#           3   \n",
       "2  ת. רכבת יבנה מערב-יבנה<->ת. רכבת יבנה מזרח-יבנ...  56002-1-#           3   \n",
       "3  ת. רכבת יבנה מזרח-יבנה<->ת. רכבת יבנה מערב-יבנ...  56002-2-#           3   \n",
       "4  ת. רכבת יבנה מערב-יבנה<->ת. רכבת יבנה מזרח-יבנ...  49003-1-#           3   \n",
       "\n",
       "  route_color  \n",
       "0         NaN  \n",
       "1         NaN  \n",
       "2         NaN  \n",
       "3         NaN  \n",
       "4         NaN  "
      ]
     },
     "execution_count": 13,
     "metadata": {},
     "output_type": "execute_result"
    }
   ],
   "source": [
    "routes = pd.read_csv('../data/israel-public-transportation/routes.txt')\n",
    "routes.head()"
   ]
  },
  {
   "cell_type": "code",
   "execution_count": 14,
   "metadata": {},
   "outputs": [
    {
     "data": {
      "text/html": [
       "<div>\n",
       "<style scoped>\n",
       "    .dataframe tbody tr th:only-of-type {\n",
       "        vertical-align: middle;\n",
       "    }\n",
       "\n",
       "    .dataframe tbody tr th {\n",
       "        vertical-align: top;\n",
       "    }\n",
       "\n",
       "    .dataframe thead th {\n",
       "        text-align: right;\n",
       "    }\n",
       "</style>\n",
       "<table border=\"1\" class=\"dataframe\">\n",
       "  <thead>\n",
       "    <tr style=\"text-align: right;\">\n",
       "      <th></th>\n",
       "      <th>route_id</th>\n",
       "      <th>agency_id</th>\n",
       "      <th>route_short_name</th>\n",
       "      <th>route_long_name</th>\n",
       "      <th>route_desc</th>\n",
       "      <th>route_type</th>\n",
       "      <th>route_color</th>\n",
       "    </tr>\n",
       "  </thead>\n",
       "  <tbody>\n",
       "    <tr>\n",
       "      <th>1863</th>\n",
       "      <td>7072</td>\n",
       "      <td>3</td>\n",
       "      <td>826</td>\n",
       "      <td>ת.מרכזית ת''א ק.7/רציפים-תל אביב יפו&lt;-&gt;חניון נ...</td>\n",
       "      <td>10826-1-#</td>\n",
       "      <td>3</td>\n",
       "      <td>NaN</td>\n",
       "    </tr>\n",
       "    <tr>\n",
       "      <th>1864</th>\n",
       "      <td>7079</td>\n",
       "      <td>3</td>\n",
       "      <td>826</td>\n",
       "      <td>הגליל/הגולן-נופית&lt;-&gt;ת. מרכזית ת''א ק. 7/הורדה-...</td>\n",
       "      <td>10826-2-ז</td>\n",
       "      <td>3</td>\n",
       "      <td>NaN</td>\n",
       "    </tr>\n",
       "    <tr>\n",
       "      <th>1865</th>\n",
       "      <td>7081</td>\n",
       "      <td>3</td>\n",
       "      <td>826</td>\n",
       "      <td>שדרות הבנים/נוף העמק-מגדל העמק&lt;-&gt;ת. מרכזית ת''...</td>\n",
       "      <td>10826-2-ט</td>\n",
       "      <td>3</td>\n",
       "      <td>NaN</td>\n",
       "    </tr>\n",
       "    <tr>\n",
       "      <th>1866</th>\n",
       "      <td>7083</td>\n",
       "      <td>3</td>\n",
       "      <td>826</td>\n",
       "      <td>דליה/כליל החורש-נצרת עילית&lt;-&gt;ת. מרכזית ת''א ק....</td>\n",
       "      <td>10826-2-כ</td>\n",
       "      <td>3</td>\n",
       "      <td>NaN</td>\n",
       "    </tr>\n",
       "    <tr>\n",
       "      <th>4797</th>\n",
       "      <td>15123</td>\n",
       "      <td>3</td>\n",
       "      <td>826</td>\n",
       "      <td>ת.מרכזית ת''א ק.7/רציפים-תל אביב יפו&lt;-&gt;דליה-נצ...</td>\n",
       "      <td>10826-1-9</td>\n",
       "      <td>3</td>\n",
       "      <td>NaN</td>\n",
       "    </tr>\n",
       "    <tr>\n",
       "      <th>6704</th>\n",
       "      <td>19731</td>\n",
       "      <td>3</td>\n",
       "      <td>826</td>\n",
       "      <td>חניון אגד/העבודה-נצרת עילית&lt;-&gt;ת. מרכזית ת''א ק...</td>\n",
       "      <td>10826-2-#</td>\n",
       "      <td>3</td>\n",
       "      <td>NaN</td>\n",
       "    </tr>\n",
       "  </tbody>\n",
       "</table>\n",
       "</div>"
      ],
      "text/plain": [
       "      route_id  agency_id route_short_name  \\\n",
       "1863      7072          3              826   \n",
       "1864      7079          3              826   \n",
       "1865      7081          3              826   \n",
       "1866      7083          3              826   \n",
       "4797     15123          3              826   \n",
       "6704     19731          3              826   \n",
       "\n",
       "                                        route_long_name route_desc  \\\n",
       "1863  ת.מרכזית ת''א ק.7/רציפים-תל אביב יפו<->חניון נ...  10826-1-#   \n",
       "1864  הגליל/הגולן-נופית<->ת. מרכזית ת''א ק. 7/הורדה-...  10826-2-ז   \n",
       "1865  שדרות הבנים/נוף העמק-מגדל העמק<->ת. מרכזית ת''...  10826-2-ט   \n",
       "1866  דליה/כליל החורש-נצרת עילית<->ת. מרכזית ת''א ק....  10826-2-כ   \n",
       "4797  ת.מרכזית ת''א ק.7/רציפים-תל אביב יפו<->דליה-נצ...  10826-1-9   \n",
       "6704  חניון אגד/העבודה-נצרת עילית<->ת. מרכזית ת''א ק...  10826-2-#   \n",
       "\n",
       "      route_type route_color  \n",
       "1863           3         NaN  \n",
       "1864           3         NaN  \n",
       "1865           3         NaN  \n",
       "1866           3         NaN  \n",
       "4797           3         NaN  \n",
       "6704           3         NaN  "
      ]
     },
     "execution_count": 14,
     "metadata": {},
     "output_type": "execute_result"
    }
   ],
   "source": [
    "routes[routes['route_short_name']=='826']"
   ]
  },
  {
   "cell_type": "markdown",
   "metadata": {},
   "source": [
    "#### trips are all the occurrences of every route"
   ]
  },
  {
   "cell_type": "code",
   "execution_count": 15,
   "metadata": {},
   "outputs": [
    {
     "data": {
      "text/html": [
       "<div>\n",
       "<style scoped>\n",
       "    .dataframe tbody tr th:only-of-type {\n",
       "        vertical-align: middle;\n",
       "    }\n",
       "\n",
       "    .dataframe tbody tr th {\n",
       "        vertical-align: top;\n",
       "    }\n",
       "\n",
       "    .dataframe thead th {\n",
       "        text-align: right;\n",
       "    }\n",
       "</style>\n",
       "<table border=\"1\" class=\"dataframe\">\n",
       "  <thead>\n",
       "    <tr style=\"text-align: right;\">\n",
       "      <th></th>\n",
       "      <th>route_id</th>\n",
       "      <th>service_id</th>\n",
       "      <th>trip_id</th>\n",
       "      <th>trip_headsign</th>\n",
       "      <th>direction_id</th>\n",
       "      <th>shape_id</th>\n",
       "    </tr>\n",
       "  </thead>\n",
       "  <tbody>\n",
       "    <tr>\n",
       "      <th>0</th>\n",
       "      <td>1</td>\n",
       "      <td>1</td>\n",
       "      <td>30900053_180219</td>\n",
       "      <td>רכבת מזרח/שוק</td>\n",
       "      <td>0</td>\n",
       "      <td>97105.0</td>\n",
       "    </tr>\n",
       "    <tr>\n",
       "      <th>1</th>\n",
       "      <td>1</td>\n",
       "      <td>1</td>\n",
       "      <td>30900054_180219</td>\n",
       "      <td>רכבת מזרח/שוק</td>\n",
       "      <td>0</td>\n",
       "      <td>97105.0</td>\n",
       "    </tr>\n",
       "    <tr>\n",
       "      <th>2</th>\n",
       "      <td>1</td>\n",
       "      <td>1</td>\n",
       "      <td>30900055_180219</td>\n",
       "      <td>רכבת מזרח/שוק</td>\n",
       "      <td>0</td>\n",
       "      <td>97105.0</td>\n",
       "    </tr>\n",
       "    <tr>\n",
       "      <th>3</th>\n",
       "      <td>1</td>\n",
       "      <td>1</td>\n",
       "      <td>30900056_180219</td>\n",
       "      <td>רכבת מזרח/שוק</td>\n",
       "      <td>0</td>\n",
       "      <td>97105.0</td>\n",
       "    </tr>\n",
       "    <tr>\n",
       "      <th>4</th>\n",
       "      <td>1</td>\n",
       "      <td>1</td>\n",
       "      <td>30900057_180219</td>\n",
       "      <td>רכבת מזרח/שוק</td>\n",
       "      <td>0</td>\n",
       "      <td>97105.0</td>\n",
       "    </tr>\n",
       "  </tbody>\n",
       "</table>\n",
       "</div>"
      ],
      "text/plain": [
       "   route_id  service_id          trip_id  trip_headsign  direction_id  \\\n",
       "0         1           1  30900053_180219  רכבת מזרח/שוק             0   \n",
       "1         1           1  30900054_180219  רכבת מזרח/שוק             0   \n",
       "2         1           1  30900055_180219  רכבת מזרח/שוק             0   \n",
       "3         1           1  30900056_180219  רכבת מזרח/שוק             0   \n",
       "4         1           1  30900057_180219  רכבת מזרח/שוק             0   \n",
       "\n",
       "   shape_id  \n",
       "0   97105.0  \n",
       "1   97105.0  \n",
       "2   97105.0  \n",
       "3   97105.0  \n",
       "4   97105.0  "
      ]
     },
     "execution_count": 15,
     "metadata": {},
     "output_type": "execute_result"
    }
   ],
   "source": [
    "trips = pd.read_csv('../data/israel-public-transportation/trips.txt')\n",
    "trips.head()"
   ]
  },
  {
   "cell_type": "markdown",
   "metadata": {},
   "source": [
    "lets use the calendar table in order to filter in:\n",
    "    1. only trips that are active on Mondays - we will use this a general representation of a weekday schedule\n",
    "    2. where trips schedules change over the course of the calendar time period - we will use only the first"
   ]
  },
  {
   "cell_type": "code",
   "execution_count": 16,
   "metadata": {},
   "outputs": [
    {
     "data": {
      "text/html": [
       "<div>\n",
       "<style scoped>\n",
       "    .dataframe tbody tr th:only-of-type {\n",
       "        vertical-align: middle;\n",
       "    }\n",
       "\n",
       "    .dataframe tbody tr th {\n",
       "        vertical-align: top;\n",
       "    }\n",
       "\n",
       "    .dataframe thead th {\n",
       "        text-align: right;\n",
       "    }\n",
       "</style>\n",
       "<table border=\"1\" class=\"dataframe\">\n",
       "  <thead>\n",
       "    <tr style=\"text-align: right;\">\n",
       "      <th></th>\n",
       "      <th>service_id</th>\n",
       "      <th>sunday</th>\n",
       "      <th>monday</th>\n",
       "      <th>tuesday</th>\n",
       "      <th>wednesday</th>\n",
       "      <th>thursday</th>\n",
       "      <th>friday</th>\n",
       "      <th>saturday</th>\n",
       "      <th>start_date</th>\n",
       "      <th>end_date</th>\n",
       "    </tr>\n",
       "  </thead>\n",
       "  <tbody>\n",
       "    <tr>\n",
       "      <th>0</th>\n",
       "      <td>1</td>\n",
       "      <td>1</td>\n",
       "      <td>1</td>\n",
       "      <td>1</td>\n",
       "      <td>1</td>\n",
       "      <td>1</td>\n",
       "      <td>0</td>\n",
       "      <td>0</td>\n",
       "      <td>20190218</td>\n",
       "      <td>20190319</td>\n",
       "    </tr>\n",
       "    <tr>\n",
       "      <th>1</th>\n",
       "      <td>2</td>\n",
       "      <td>0</td>\n",
       "      <td>0</td>\n",
       "      <td>0</td>\n",
       "      <td>0</td>\n",
       "      <td>0</td>\n",
       "      <td>1</td>\n",
       "      <td>0</td>\n",
       "      <td>20190218</td>\n",
       "      <td>20190319</td>\n",
       "    </tr>\n",
       "    <tr>\n",
       "      <th>2</th>\n",
       "      <td>3</td>\n",
       "      <td>0</td>\n",
       "      <td>0</td>\n",
       "      <td>0</td>\n",
       "      <td>0</td>\n",
       "      <td>0</td>\n",
       "      <td>0</td>\n",
       "      <td>1</td>\n",
       "      <td>20190218</td>\n",
       "      <td>20190319</td>\n",
       "    </tr>\n",
       "    <tr>\n",
       "      <th>3</th>\n",
       "      <td>4</td>\n",
       "      <td>0</td>\n",
       "      <td>0</td>\n",
       "      <td>0</td>\n",
       "      <td>1</td>\n",
       "      <td>0</td>\n",
       "      <td>0</td>\n",
       "      <td>0</td>\n",
       "      <td>20190320</td>\n",
       "      <td>20190320</td>\n",
       "    </tr>\n",
       "    <tr>\n",
       "      <th>4</th>\n",
       "      <td>5</td>\n",
       "      <td>0</td>\n",
       "      <td>0</td>\n",
       "      <td>0</td>\n",
       "      <td>0</td>\n",
       "      <td>1</td>\n",
       "      <td>0</td>\n",
       "      <td>0</td>\n",
       "      <td>20190321</td>\n",
       "      <td>20190321</td>\n",
       "    </tr>\n",
       "  </tbody>\n",
       "</table>\n",
       "</div>"
      ],
      "text/plain": [
       "   service_id  sunday  monday  tuesday  wednesday  thursday  friday  saturday  \\\n",
       "0           1       1       1        1          1         1       0         0   \n",
       "1           2       0       0        0          0         0       1         0   \n",
       "2           3       0       0        0          0         0       0         1   \n",
       "3           4       0       0        0          1         0       0         0   \n",
       "4           5       0       0        0          0         1       0         0   \n",
       "\n",
       "   start_date  end_date  \n",
       "0    20190218  20190319  \n",
       "1    20190218  20190319  \n",
       "2    20190218  20190319  \n",
       "3    20190320  20190320  \n",
       "4    20190321  20190321  "
      ]
     },
     "execution_count": 16,
     "metadata": {},
     "output_type": "execute_result"
    }
   ],
   "source": [
    "calendar = pd.read_csv('../data/israel-public-transportation/calendar.txt')\n",
    "calendar.head()"
   ]
  },
  {
   "cell_type": "markdown",
   "metadata": {},
   "source": [
    "get all the services_ids that occur on a Monday"
   ]
  },
  {
   "cell_type": "code",
   "execution_count": 17,
   "metadata": {},
   "outputs": [],
   "source": [
    "monday_services = set(calendar[calendar['monday'] == 1]['service_id'])"
   ]
  },
  {
   "cell_type": "markdown",
   "metadata": {},
   "source": [
    "filter the trips table"
   ]
  },
  {
   "cell_type": "code",
   "execution_count": 18,
   "metadata": {},
   "outputs": [
    {
     "data": {
      "text/plain": [
       "251691"
      ]
     },
     "execution_count": 18,
     "metadata": {},
     "output_type": "execute_result"
    }
   ],
   "source": [
    "len(trips)"
   ]
  },
  {
   "cell_type": "code",
   "execution_count": 19,
   "metadata": {},
   "outputs": [],
   "source": [
    "trips = trips[trips['service_id'].apply(lambda x: x in  monday_services)]"
   ]
  },
  {
   "cell_type": "code",
   "execution_count": 20,
   "metadata": {
    "scrolled": true
   },
   "outputs": [
    {
     "data": {
      "text/plain": [
       "129147"
      ]
     },
     "execution_count": 20,
     "metadata": {},
     "output_type": "execute_result"
    }
   ],
   "source": [
    "len(trips)"
   ]
  },
  {
   "cell_type": "markdown",
   "metadata": {},
   "source": [
    "split the trip_id string up to the start calendar date"
   ]
  },
  {
   "cell_type": "code",
   "execution_count": 21,
   "metadata": {},
   "outputs": [],
   "source": [
    "trips['ids'] = trips['trip_id'].apply(lambda x: x[:x.index('_')])"
   ]
  },
  {
   "cell_type": "markdown",
   "metadata": {},
   "source": [
    "lets look at the trips grouped by the new ids. we can see that some ids have more than 1 occurrence:\n"
   ]
  },
  {
   "cell_type": "code",
   "execution_count": 22,
   "metadata": {},
   "outputs": [
    {
     "data": {
      "text/plain": [
       "ids\n",
       "33563691    4\n",
       "33563782    4\n",
       "33563801    4\n",
       "33563800    4\n",
       "33563799    4\n",
       "dtype: int64"
      ]
     },
     "execution_count": 22,
     "metadata": {},
     "output_type": "execute_result"
    }
   ],
   "source": [
    "trips.groupby('ids').size().sort_values(ascending = False).head()"
   ]
  },
  {
   "cell_type": "markdown",
   "metadata": {},
   "source": [
    "lets look at the first duplicated id in the trip table"
   ]
  },
  {
   "cell_type": "code",
   "execution_count": 23,
   "metadata": {},
   "outputs": [
    {
     "data": {
      "text/html": [
       "<div>\n",
       "<style scoped>\n",
       "    .dataframe tbody tr th:only-of-type {\n",
       "        vertical-align: middle;\n",
       "    }\n",
       "\n",
       "    .dataframe tbody tr th {\n",
       "        vertical-align: top;\n",
       "    }\n",
       "\n",
       "    .dataframe thead th {\n",
       "        text-align: right;\n",
       "    }\n",
       "</style>\n",
       "<table border=\"1\" class=\"dataframe\">\n",
       "  <thead>\n",
       "    <tr style=\"text-align: right;\">\n",
       "      <th></th>\n",
       "      <th>route_id</th>\n",
       "      <th>service_id</th>\n",
       "      <th>trip_id</th>\n",
       "      <th>trip_headsign</th>\n",
       "      <th>direction_id</th>\n",
       "      <th>shape_id</th>\n",
       "      <th>ids</th>\n",
       "    </tr>\n",
       "  </thead>\n",
       "  <tbody>\n",
       "    <tr>\n",
       "      <th>139645</th>\n",
       "      <td>11685</td>\n",
       "      <td>13047</td>\n",
       "      <td>33563691_180219</td>\n",
       "      <td>קרית מוצקין_מרכזית הקריות</td>\n",
       "      <td>0</td>\n",
       "      <td>96286.0</td>\n",
       "      <td>33563691</td>\n",
       "    </tr>\n",
       "    <tr>\n",
       "      <th>140218</th>\n",
       "      <td>11685</td>\n",
       "      <td>13051</td>\n",
       "      <td>33563691_260219</td>\n",
       "      <td>קרית מוצקין_מרכזית הקריות</td>\n",
       "      <td>0</td>\n",
       "      <td>96286.0</td>\n",
       "      <td>33563691</td>\n",
       "    </tr>\n",
       "    <tr>\n",
       "      <th>140431</th>\n",
       "      <td>11685</td>\n",
       "      <td>13052</td>\n",
       "      <td>33563691_280219</td>\n",
       "      <td>קרית מוצקין_מרכזית הקריות</td>\n",
       "      <td>0</td>\n",
       "      <td>103554.0</td>\n",
       "      <td>33563691</td>\n",
       "    </tr>\n",
       "    <tr>\n",
       "      <th>140809</th>\n",
       "      <td>11685</td>\n",
       "      <td>13055</td>\n",
       "      <td>33563691_030319</td>\n",
       "      <td>קרית מוצקין_מרכזית הקריות</td>\n",
       "      <td>0</td>\n",
       "      <td>103554.0</td>\n",
       "      <td>33563691</td>\n",
       "    </tr>\n",
       "  </tbody>\n",
       "</table>\n",
       "</div>"
      ],
      "text/plain": [
       "        route_id  service_id          trip_id              trip_headsign  \\\n",
       "139645     11685       13047  33563691_180219  קרית מוצקין_מרכזית הקריות   \n",
       "140218     11685       13051  33563691_260219  קרית מוצקין_מרכזית הקריות   \n",
       "140431     11685       13052  33563691_280219  קרית מוצקין_מרכזית הקריות   \n",
       "140809     11685       13055  33563691_030319  קרית מוצקין_מרכזית הקריות   \n",
       "\n",
       "        direction_id  shape_id       ids  \n",
       "139645             0   96286.0  33563691  \n",
       "140218             0   96286.0  33563691  \n",
       "140431             0  103554.0  33563691  \n",
       "140809             0  103554.0  33563691  "
      ]
     },
     "execution_count": 23,
     "metadata": {},
     "output_type": "execute_result"
    }
   ],
   "source": [
    "trips[trips['ids']== '33563691' ]"
   ]
  },
  {
   "cell_type": "markdown",
   "metadata": {},
   "source": [
    "lets look at these rervices in the calendar table\n",
    "we can see that the trip schedule changes between 18/02/2019 to 19/04/2019"
   ]
  },
  {
   "cell_type": "code",
   "execution_count": 24,
   "metadata": {},
   "outputs": [],
   "source": [
    "set_ = set(trips[trips['ids']== '33563691' ]['service_id'])"
   ]
  },
  {
   "cell_type": "code",
   "execution_count": 25,
   "metadata": {},
   "outputs": [
    {
     "data": {
      "text/plain": [
       "{13047, 13051, 13052, 13055}"
      ]
     },
     "execution_count": 25,
     "metadata": {},
     "output_type": "execute_result"
    }
   ],
   "source": [
    "set_"
   ]
  },
  {
   "cell_type": "code",
   "execution_count": 26,
   "metadata": {},
   "outputs": [
    {
     "data": {
      "text/html": [
       "<div>\n",
       "<style scoped>\n",
       "    .dataframe tbody tr th:only-of-type {\n",
       "        vertical-align: middle;\n",
       "    }\n",
       "\n",
       "    .dataframe tbody tr th {\n",
       "        vertical-align: top;\n",
       "    }\n",
       "\n",
       "    .dataframe thead th {\n",
       "        text-align: right;\n",
       "    }\n",
       "</style>\n",
       "<table border=\"1\" class=\"dataframe\">\n",
       "  <thead>\n",
       "    <tr style=\"text-align: right;\">\n",
       "      <th></th>\n",
       "      <th>service_id</th>\n",
       "      <th>sunday</th>\n",
       "      <th>monday</th>\n",
       "      <th>tuesday</th>\n",
       "      <th>wednesday</th>\n",
       "      <th>thursday</th>\n",
       "      <th>friday</th>\n",
       "      <th>saturday</th>\n",
       "      <th>start_date</th>\n",
       "      <th>end_date</th>\n",
       "    </tr>\n",
       "  </thead>\n",
       "  <tbody>\n",
       "    <tr>\n",
       "      <th>13046</th>\n",
       "      <td>13047</td>\n",
       "      <td>1</td>\n",
       "      <td>1</td>\n",
       "      <td>1</td>\n",
       "      <td>1</td>\n",
       "      <td>1</td>\n",
       "      <td>0</td>\n",
       "      <td>0</td>\n",
       "      <td>20190218</td>\n",
       "      <td>20190224</td>\n",
       "    </tr>\n",
       "    <tr>\n",
       "      <th>13050</th>\n",
       "      <td>13051</td>\n",
       "      <td>1</td>\n",
       "      <td>1</td>\n",
       "      <td>1</td>\n",
       "      <td>1</td>\n",
       "      <td>1</td>\n",
       "      <td>0</td>\n",
       "      <td>0</td>\n",
       "      <td>20190226</td>\n",
       "      <td>20190227</td>\n",
       "    </tr>\n",
       "    <tr>\n",
       "      <th>13051</th>\n",
       "      <td>13052</td>\n",
       "      <td>1</td>\n",
       "      <td>1</td>\n",
       "      <td>1</td>\n",
       "      <td>1</td>\n",
       "      <td>1</td>\n",
       "      <td>0</td>\n",
       "      <td>0</td>\n",
       "      <td>20190228</td>\n",
       "      <td>20190301</td>\n",
       "    </tr>\n",
       "    <tr>\n",
       "      <th>13054</th>\n",
       "      <td>13055</td>\n",
       "      <td>1</td>\n",
       "      <td>1</td>\n",
       "      <td>1</td>\n",
       "      <td>1</td>\n",
       "      <td>1</td>\n",
       "      <td>0</td>\n",
       "      <td>0</td>\n",
       "      <td>20190303</td>\n",
       "      <td>20190419</td>\n",
       "    </tr>\n",
       "  </tbody>\n",
       "</table>\n",
       "</div>"
      ],
      "text/plain": [
       "       service_id  sunday  monday  tuesday  wednesday  thursday  friday  \\\n",
       "13046       13047       1       1        1          1         1       0   \n",
       "13050       13051       1       1        1          1         1       0   \n",
       "13051       13052       1       1        1          1         1       0   \n",
       "13054       13055       1       1        1          1         1       0   \n",
       "\n",
       "       saturday  start_date  end_date  \n",
       "13046         0    20190218  20190224  \n",
       "13050         0    20190226  20190227  \n",
       "13051         0    20190228  20190301  \n",
       "13054         0    20190303  20190419  "
      ]
     },
     "execution_count": 26,
     "metadata": {},
     "output_type": "execute_result"
    }
   ],
   "source": [
    "calendar[calendar['service_id'].apply(lambda x: x in set_)]"
   ]
  },
  {
   "cell_type": "markdown",
   "metadata": {},
   "source": [
    "We can filter the first occurrence only by using groupby and head(1)"
   ]
  },
  {
   "cell_type": "code",
   "execution_count": 27,
   "metadata": {},
   "outputs": [
    {
     "data": {
      "text/plain": [
       "129147"
      ]
     },
     "execution_count": 27,
     "metadata": {},
     "output_type": "execute_result"
    }
   ],
   "source": [
    "len(trips)"
   ]
  },
  {
   "cell_type": "code",
   "execution_count": 28,
   "metadata": {},
   "outputs": [],
   "source": [
    "trips = trips.groupby('ids').head(1)"
   ]
  },
  {
   "cell_type": "code",
   "execution_count": 29,
   "metadata": {},
   "outputs": [
    {
     "data": {
      "text/plain": [
       "102127"
      ]
     },
     "execution_count": 29,
     "metadata": {},
     "output_type": "execute_result"
    }
   ],
   "source": [
    "len(trips)"
   ]
  },
  {
   "cell_type": "markdown",
   "metadata": {},
   "source": [
    "get a set of the filtered trip_ids"
   ]
  },
  {
   "cell_type": "code",
   "execution_count": 30,
   "metadata": {},
   "outputs": [],
   "source": [
    "monday_first_date_trips = set(trips[trips['service_id'].apply(lambda x: x in  monday_services)]['trip_id'])"
   ]
  },
  {
   "cell_type": "markdown",
   "metadata": {},
   "source": [
    "#### The stop_times table is the actual schedule\n",
    "\n",
    "we will use this to build our network - we will discard the geometries but keep the distances from \n",
    "this table"
   ]
  },
  {
   "cell_type": "code",
   "execution_count": 31,
   "metadata": {},
   "outputs": [
    {
     "data": {
      "text/html": [
       "<div>\n",
       "<style scoped>\n",
       "    .dataframe tbody tr th:only-of-type {\n",
       "        vertical-align: middle;\n",
       "    }\n",
       "\n",
       "    .dataframe tbody tr th {\n",
       "        vertical-align: top;\n",
       "    }\n",
       "\n",
       "    .dataframe thead th {\n",
       "        text-align: right;\n",
       "    }\n",
       "</style>\n",
       "<table border=\"1\" class=\"dataframe\">\n",
       "  <thead>\n",
       "    <tr style=\"text-align: right;\">\n",
       "      <th></th>\n",
       "      <th>trip_id</th>\n",
       "      <th>arrival_time</th>\n",
       "      <th>departure_time</th>\n",
       "      <th>stop_id</th>\n",
       "      <th>stop_sequence</th>\n",
       "      <th>pickup_type</th>\n",
       "      <th>drop_off_type</th>\n",
       "      <th>shape_dist_traveled</th>\n",
       "    </tr>\n",
       "  </thead>\n",
       "  <tbody>\n",
       "    <tr>\n",
       "      <th>0</th>\n",
       "      <td>10021427_180219</td>\n",
       "      <td>00:00:00</td>\n",
       "      <td>00:00:00</td>\n",
       "      <td>36133</td>\n",
       "      <td>1</td>\n",
       "      <td>0</td>\n",
       "      <td>1</td>\n",
       "      <td>0</td>\n",
       "    </tr>\n",
       "    <tr>\n",
       "      <th>1</th>\n",
       "      <td>10021427_180219</td>\n",
       "      <td>00:01:35</td>\n",
       "      <td>00:01:35</td>\n",
       "      <td>2356</td>\n",
       "      <td>2</td>\n",
       "      <td>0</td>\n",
       "      <td>1</td>\n",
       "      <td>499</td>\n",
       "    </tr>\n",
       "    <tr>\n",
       "      <th>2</th>\n",
       "      <td>10021427_180219</td>\n",
       "      <td>00:03:27</td>\n",
       "      <td>00:03:27</td>\n",
       "      <td>3869</td>\n",
       "      <td>3</td>\n",
       "      <td>0</td>\n",
       "      <td>1</td>\n",
       "      <td>1838</td>\n",
       "    </tr>\n",
       "    <tr>\n",
       "      <th>3</th>\n",
       "      <td>10021427_180219</td>\n",
       "      <td>00:05:22</td>\n",
       "      <td>00:05:22</td>\n",
       "      <td>2357</td>\n",
       "      <td>4</td>\n",
       "      <td>0</td>\n",
       "      <td>1</td>\n",
       "      <td>2693</td>\n",
       "    </tr>\n",
       "    <tr>\n",
       "      <th>4</th>\n",
       "      <td>10021427_180219</td>\n",
       "      <td>00:06:23</td>\n",
       "      <td>00:06:23</td>\n",
       "      <td>3803</td>\n",
       "      <td>5</td>\n",
       "      <td>0</td>\n",
       "      <td>1</td>\n",
       "      <td>3379</td>\n",
       "    </tr>\n",
       "  </tbody>\n",
       "</table>\n",
       "</div>"
      ],
      "text/plain": [
       "           trip_id arrival_time departure_time  stop_id  stop_sequence  \\\n",
       "0  10021427_180219     00:00:00       00:00:00    36133              1   \n",
       "1  10021427_180219     00:01:35       00:01:35     2356              2   \n",
       "2  10021427_180219     00:03:27       00:03:27     3869              3   \n",
       "3  10021427_180219     00:05:22       00:05:22     2357              4   \n",
       "4  10021427_180219     00:06:23       00:06:23     3803              5   \n",
       "\n",
       "   pickup_type  drop_off_type  shape_dist_traveled  \n",
       "0            0              1                    0  \n",
       "1            0              1                  499  \n",
       "2            0              1                 1838  \n",
       "3            0              1                 2693  \n",
       "4            0              1                 3379  "
      ]
     },
     "execution_count": 31,
     "metadata": {},
     "output_type": "execute_result"
    }
   ],
   "source": [
    "stop_times = pd.read_csv('../data/israel-public-transportation/stop_times.txt')\n",
    "stop_times.head()"
   ]
  },
  {
   "cell_type": "markdown",
   "metadata": {},
   "source": [
    "filter for monday first date trips"
   ]
  },
  {
   "cell_type": "code",
   "execution_count": 32,
   "metadata": {},
   "outputs": [
    {
     "data": {
      "text/html": [
       "<div>\n",
       "<style scoped>\n",
       "    .dataframe tbody tr th:only-of-type {\n",
       "        vertical-align: middle;\n",
       "    }\n",
       "\n",
       "    .dataframe tbody tr th {\n",
       "        vertical-align: top;\n",
       "    }\n",
       "\n",
       "    .dataframe thead th {\n",
       "        text-align: right;\n",
       "    }\n",
       "</style>\n",
       "<table border=\"1\" class=\"dataframe\">\n",
       "  <thead>\n",
       "    <tr style=\"text-align: right;\">\n",
       "      <th></th>\n",
       "      <th>trip_id</th>\n",
       "      <th>arrival_time</th>\n",
       "      <th>departure_time</th>\n",
       "      <th>stop_id</th>\n",
       "      <th>stop_sequence</th>\n",
       "      <th>pickup_type</th>\n",
       "      <th>drop_off_type</th>\n",
       "      <th>shape_dist_traveled</th>\n",
       "    </tr>\n",
       "  </thead>\n",
       "  <tbody>\n",
       "    <tr>\n",
       "      <th>415</th>\n",
       "      <td>10096398_180219</td>\n",
       "      <td>21:00:00</td>\n",
       "      <td>21:00:00</td>\n",
       "      <td>34657</td>\n",
       "      <td>1</td>\n",
       "      <td>0</td>\n",
       "      <td>1</td>\n",
       "      <td>0</td>\n",
       "    </tr>\n",
       "    <tr>\n",
       "      <th>416</th>\n",
       "      <td>10096398_180219</td>\n",
       "      <td>21:00:40</td>\n",
       "      <td>21:00:40</td>\n",
       "      <td>35317</td>\n",
       "      <td>2</td>\n",
       "      <td>0</td>\n",
       "      <td>0</td>\n",
       "      <td>276</td>\n",
       "    </tr>\n",
       "    <tr>\n",
       "      <th>417</th>\n",
       "      <td>10096398_180219</td>\n",
       "      <td>21:01:56</td>\n",
       "      <td>21:01:56</td>\n",
       "      <td>34436</td>\n",
       "      <td>3</td>\n",
       "      <td>0</td>\n",
       "      <td>0</td>\n",
       "      <td>857</td>\n",
       "    </tr>\n",
       "    <tr>\n",
       "      <th>418</th>\n",
       "      <td>10096398_180219</td>\n",
       "      <td>21:04:18</td>\n",
       "      <td>21:04:18</td>\n",
       "      <td>34444</td>\n",
       "      <td>4</td>\n",
       "      <td>0</td>\n",
       "      <td>0</td>\n",
       "      <td>1955</td>\n",
       "    </tr>\n",
       "    <tr>\n",
       "      <th>419</th>\n",
       "      <td>10096398_180219</td>\n",
       "      <td>21:14:43</td>\n",
       "      <td>21:14:43</td>\n",
       "      <td>35506</td>\n",
       "      <td>5</td>\n",
       "      <td>0</td>\n",
       "      <td>0</td>\n",
       "      <td>14838</td>\n",
       "    </tr>\n",
       "  </tbody>\n",
       "</table>\n",
       "</div>"
      ],
      "text/plain": [
       "             trip_id arrival_time departure_time  stop_id  stop_sequence  \\\n",
       "415  10096398_180219     21:00:00       21:00:00    34657              1   \n",
       "416  10096398_180219     21:00:40       21:00:40    35317              2   \n",
       "417  10096398_180219     21:01:56       21:01:56    34436              3   \n",
       "418  10096398_180219     21:04:18       21:04:18    34444              4   \n",
       "419  10096398_180219     21:14:43       21:14:43    35506              5   \n",
       "\n",
       "     pickup_type  drop_off_type  shape_dist_traveled  \n",
       "415            0              1                    0  \n",
       "416            0              0                  276  \n",
       "417            0              0                  857  \n",
       "418            0              0                 1955  \n",
       "419            0              0                14838  "
      ]
     },
     "execution_count": 32,
     "metadata": {},
     "output_type": "execute_result"
    }
   ],
   "source": [
    "stop_times = stop_times[stop_times['trip_id'].apply(lambda x: x in monday_first_date_trips)].copy()\n",
    "stop_times.head()"
   ]
  },
  {
   "cell_type": "markdown",
   "metadata": {},
   "source": [
    "In order create an edge table (or edge list) from the stop_times table \n",
    "append the next row stop to every row (the stops are ordered in trip sequences)\n",
    "trip_id - is the trip_id from the trips table\n",
    "stop_sequence - is the order of the stops on the trip\n",
    "\n",
    "note:\n",
    "1. we start from the second element and add another element at the end -  offsetting each row\n",
    "2. we will later remove the last stop in every trip"
   ]
  },
  {
   "cell_type": "code",
   "execution_count": 33,
   "metadata": {},
   "outputs": [],
   "source": [
    "# reset the index\n",
    "stop_times = stop_times.reset_index(drop = True)"
   ]
  },
  {
   "cell_type": "code",
   "execution_count": 34,
   "metadata": {},
   "outputs": [],
   "source": [
    "stop_times['to'] = stop_times.loc[1:, 'stop_id'].tolist()+[0]"
   ]
  },
  {
   "cell_type": "markdown",
   "metadata": {},
   "source": [
    "here we are adding the distance to the next stop by along the trip again  offsetting by one row\n",
    "\n",
    "we also deduct the distance already traveled along the trip to get only the distance between two stops"
   ]
  },
  {
   "cell_type": "code",
   "execution_count": 35,
   "metadata": {},
   "outputs": [],
   "source": [
    "stop_times['distance'] = stop_times.loc[1:, 'shape_dist_traveled'].tolist()+[np.nan]\n",
    "stop_times['distance'] = stop_times['distance']-stop_times['shape_dist_traveled']"
   ]
  },
  {
   "cell_type": "markdown",
   "metadata": {},
   "source": [
    "we calculate a stop sequence offset and if it is different than 1 it means we are at the last stop in the trip\n",
    "\n",
    "we would want to remove these rows"
   ]
  },
  {
   "cell_type": "code",
   "execution_count": 36,
   "metadata": {},
   "outputs": [],
   "source": [
    "stop_times['offset'] = stop_times.loc[1:, 'stop_sequence'].tolist()+[np.nan]\n",
    "stop_times['offset'] = stop_times['offset']- stop_times['stop_sequence']"
   ]
  },
  {
   "cell_type": "code",
   "execution_count": 37,
   "metadata": {},
   "outputs": [],
   "source": [
    "stop_times = stop_times[stop_times['offset']==1]"
   ]
  },
  {
   "cell_type": "code",
   "execution_count": 38,
   "metadata": {},
   "outputs": [
    {
     "data": {
      "text/plain": [
       "3500793"
      ]
     },
     "execution_count": 38,
     "metadata": {},
     "output_type": "execute_result"
    }
   ],
   "source": [
    "len(stop_times)"
   ]
  },
  {
   "cell_type": "markdown",
   "metadata": {},
   "source": [
    "### Create the network"
   ]
  },
  {
   "cell_type": "markdown",
   "metadata": {},
   "source": [
    "we want our network to express every time a train or a bus stops at a stop (there can be many duplicate edges) - so we will work with \n",
    "a directed multi graph"
   ]
  },
  {
   "cell_type": "code",
   "execution_count": 39,
   "metadata": {},
   "outputs": [],
   "source": [
    "G=nx.MultiDiGraph()"
   ]
  },
  {
   "cell_type": "markdown",
   "metadata": {},
   "source": [
    "we add the edges and the distances between them as the weight"
   ]
  },
  {
   "cell_type": "code",
   "execution_count": 40,
   "metadata": {},
   "outputs": [],
   "source": [
    "G.add_weighted_edges_from(zip(stop_times['stop_id'], stop_times['to'], stop_times['distance']))\n"
   ]
  },
  {
   "cell_type": "code",
   "execution_count": 41,
   "metadata": {},
   "outputs": [
    {
     "data": {
      "text/plain": [
       "True"
      ]
     },
     "execution_count": 41,
     "metadata": {},
     "output_type": "execute_result"
    }
   ],
   "source": [
    "nx.is_directed(G)"
   ]
  },
  {
   "cell_type": "code",
   "execution_count": 42,
   "metadata": {},
   "outputs": [
    {
     "data": {
      "text/plain": [
       "(34657, 35317, {'weight': 276.0})"
      ]
     },
     "execution_count": 42,
     "metadata": {},
     "output_type": "execute_result"
    }
   ],
   "source": [
    "list(G.edges(data = True))[0]"
   ]
  },
  {
   "cell_type": "markdown",
   "metadata": {},
   "source": [
    "We want to add node names and zones to our network. We can create dictionaries of stop_ids and any other attribute and add them to the network as node attributes - we will use the stop table for this, because it contains unique nodes attributes\n"
   ]
  },
  {
   "cell_type": "code",
   "execution_count": 43,
   "metadata": {},
   "outputs": [],
   "source": [
    "nodes_dict = dict(zip(stops['stop_id'], stops['stop_name']))\n",
    "zones_dict = dict(zip(stops['stop_id'], stops['zone_id']))"
   ]
  },
  {
   "cell_type": "code",
   "execution_count": 44,
   "metadata": {},
   "outputs": [],
   "source": [
    "\n",
    "nx.set_node_attributes(G,nodes_dict, \"name\")\n",
    "nx.set_node_attributes(G,zones_dict, \"zone\")"
   ]
  },
  {
   "cell_type": "code",
   "execution_count": 45,
   "metadata": {},
   "outputs": [
    {
     "data": {
      "text/plain": [
       "{'name': \"בי''ס בר לב/בן יהודה\", 'zone': 6900}"
      ]
     },
     "execution_count": 45,
     "metadata": {},
     "output_type": "execute_result"
    }
   ],
   "source": [
    "G.nodes(data = True)[1]"
   ]
  },
  {
   "cell_type": "markdown",
   "metadata": {},
   "source": [
    "### create a subgraph of a zone\n",
    "\n",
    "Now that are nodes have zone_id s we can subset only the part of the network that\n",
    "is in the location we are looking at (zone_id are the locality id as the appear in the lamas census) - \n",
    "\n",
    "The advantage of subsetting the graph instead of filtering the original dataframe from which the graph was prepared,\n",
    "is that here we get only the parts of trips that are within the specified zone. Otherwize we can include trips going from the zone to another - and in this specific case - this is not what we want"
   ]
  },
  {
   "cell_type": "code",
   "execution_count": 46,
   "metadata": {},
   "outputs": [],
   "source": [
    "SG = G.subgraph([i for i in G.nodes if G.nodes[i]['zone'] == 3000])"
   ]
  },
  {
   "cell_type": "markdown",
   "metadata": {},
   "source": [
    "### Calculation centrality measures for our network"
   ]
  },
  {
   "cell_type": "code",
   "execution_count": 47,
   "metadata": {},
   "outputs": [
    {
     "name": "stdout",
     "output_type": "stream",
     "text": [
      "degree centrality finished\n",
      "degree finished\n",
      "out degree finished\n",
      "in degree finished\n",
      "betweenness centrality finished\n"
     ]
    }
   ],
   "source": [
    "dc = nx.degree_centrality(SG)\n",
    "print('degree centrality finished')\n",
    "d = dict(SG.degree())\n",
    "print('degree finished')\n",
    "d_out = dict(SG.out_degree())\n",
    "print('out degree finished')\n",
    "d_in = dict(SG.in_degree())\n",
    "print('in degree finished')\n",
    "# cc = nx.closeness_centrality(SG, distance = 'distance')\n",
    "# print('closeness centrality finished')\n",
    "bc = nx.betweenness_centrality(SG, k= 200)\n",
    "print('betweenness centrality finished')\n"
   ]
  },
  {
   "cell_type": "markdown",
   "metadata": {},
   "source": [
    "page rank and hits will not work on a multigraph\n",
    "we will convert do directed graph and add the out degree as an attribute to be used as weight"
   ]
  },
  {
   "cell_type": "code",
   "execution_count": 48,
   "metadata": {},
   "outputs": [],
   "source": [
    "SG1 = nx.DiGraph(SG)\n",
    "nx.set_node_attributes(SG1, dict(d_out), 'out_degree')\n",
    "pr = nx.pagerank(SG1,weight= 'out_degree' )\n",
    "hits = nx.hits(SG1, normalized = True)\n",
    "\n"
   ]
  },
  {
   "cell_type": "markdown",
   "metadata": {},
   "source": [
    "lets look at the top 5 in degrees in the network"
   ]
  },
  {
   "cell_type": "code",
   "execution_count": 49,
   "metadata": {},
   "outputs": [
    {
     "data": {
      "text/plain": [
       "[('ירמיהו/מנחת יצחק', 10721, 1964),\n",
       " ('ירמיהו/אלקנה', 10785, 1906),\n",
       " ('ירמיהו/אלקנה', 10720, 1747),\n",
       " ('ירמיהו/מנחת יצחק', 10784, 1681),\n",
       " ('בר אילן/רבנו גרשום', 10786, 1676)]"
      ]
     },
     "execution_count": 49,
     "metadata": {},
     "output_type": "execute_result"
    }
   ],
   "source": [
    "degrees = sorted(SG.in_degree(), key=lambda tup: tup[1], reverse = True)\n",
    "\n",
    "top_5 = [(SG.nodes[i[0]]['name'],i[0], i[1]) for i in degrees[0:5]]\n",
    "\n",
    "top_5"
   ]
  },
  {
   "cell_type": "markdown",
   "metadata": {},
   "source": [
    "### Add the centrality measures to the stops table"
   ]
  },
  {
   "cell_type": "markdown",
   "metadata": {},
   "source": [
    "subset to the region of interest"
   ]
  },
  {
   "cell_type": "code",
   "execution_count": 50,
   "metadata": {},
   "outputs": [],
   "source": [
    "stops_jer = stops[stops['zone_id']== 3000].copy()"
   ]
  },
  {
   "cell_type": "code",
   "execution_count": 51,
   "metadata": {},
   "outputs": [
    {
     "data": {
      "text/plain": [
       "2030"
      ]
     },
     "execution_count": 51,
     "metadata": {},
     "output_type": "execute_result"
    }
   ],
   "source": [
    "len(stops_jer)"
   ]
  },
  {
   "cell_type": "markdown",
   "metadata": {},
   "source": [
    "add the data to the dataframe"
   ]
  },
  {
   "cell_type": "code",
   "execution_count": 52,
   "metadata": {},
   "outputs": [],
   "source": [
    "\n",
    "stops_jer['in_degree'] = [d_in[x]  if x in d_in.keys() else 0  for x in stops_jer['stop_id']]\n",
    "stops_jer['out_degree'] = [d_out[x]  if x in d_out.keys() else 0  for x in stops_jer['stop_id']]\n",
    "stops_jer['dc'] = [dc[x]  if x in dc.keys() else 0  for x in stops_jer['stop_id']]\n",
    "# stops_jer['cc'] = [cc[x]  if x in cc.keys() else 0  for x in stops_jer['stop_id']]\n",
    "stops_jer['bc'] = [bc[x]  if x in bc.keys() else 0  for x in stops_jer['stop_id']]\n",
    "stops_jer['pr'] = [pr[x]  if x in pr.keys() else 0  for x in stops_jer['stop_id']]\n",
    "stops_jer['hb'] = [hits[0][x]  if x in hits[0].keys() else 0  for x in stops_jer['stop_id']]\n",
    "stops_jer['au'] = [hits[1][x]  if x in hits[1].keys() else 0  for x in stops_jer['stop_id']]"
   ]
  },
  {
   "cell_type": "code",
   "execution_count": 53,
   "metadata": {},
   "outputs": [
    {
     "data": {
      "text/html": [
       "<div>\n",
       "<style scoped>\n",
       "    .dataframe tbody tr th:only-of-type {\n",
       "        vertical-align: middle;\n",
       "    }\n",
       "\n",
       "    .dataframe tbody tr th {\n",
       "        vertical-align: top;\n",
       "    }\n",
       "\n",
       "    .dataframe thead th {\n",
       "        text-align: right;\n",
       "    }\n",
       "</style>\n",
       "<table border=\"1\" class=\"dataframe\">\n",
       "  <thead>\n",
       "    <tr style=\"text-align: right;\">\n",
       "      <th></th>\n",
       "      <th>stop_id</th>\n",
       "      <th>stop_code</th>\n",
       "      <th>stop_name</th>\n",
       "      <th>stop_desc</th>\n",
       "      <th>stop_lat</th>\n",
       "      <th>stop_lon</th>\n",
       "      <th>location_type</th>\n",
       "      <th>parent_station</th>\n",
       "      <th>zone_id</th>\n",
       "      <th>geometry</th>\n",
       "      <th>in_degree</th>\n",
       "      <th>out_degree</th>\n",
       "      <th>dc</th>\n",
       "      <th>bc</th>\n",
       "      <th>pr</th>\n",
       "      <th>hb</th>\n",
       "      <th>au</th>\n",
       "    </tr>\n",
       "  </thead>\n",
       "  <tbody>\n",
       "    <tr>\n",
       "      <th>8267</th>\n",
       "      <td>10716</td>\n",
       "      <td>4009</td>\n",
       "      <td>צומת רמות/גולדה</td>\n",
       "      <td>רחוב:שדרות גולדה מאיר  עיר: ירושלים רציף:   ק...</td>\n",
       "      <td>31.808251</td>\n",
       "      <td>35.203986</td>\n",
       "      <td>0</td>\n",
       "      <td>NaN</td>\n",
       "      <td>3000</td>\n",
       "      <td>POINT (35.203986 31.808251)</td>\n",
       "      <td>1187</td>\n",
       "      <td>1219</td>\n",
       "      <td>1.189911</td>\n",
       "      <td>0.149633</td>\n",
       "      <td>0.002853</td>\n",
       "      <td>5.643326e-02</td>\n",
       "      <td>2.073510e-02</td>\n",
       "    </tr>\n",
       "    <tr>\n",
       "      <th>6952</th>\n",
       "      <td>8916</td>\n",
       "      <td>491</td>\n",
       "      <td>מוזיאון רוקפלר/סולטאן סולימאן</td>\n",
       "      <td>רחוב:סולטאן סולימאן 23 עיר: ירושלים רציף:   ק...</td>\n",
       "      <td>31.783533</td>\n",
       "      <td>35.234357</td>\n",
       "      <td>0</td>\n",
       "      <td>NaN</td>\n",
       "      <td>3000</td>\n",
       "      <td>POINT (35.234357 31.783533)</td>\n",
       "      <td>626</td>\n",
       "      <td>626</td>\n",
       "      <td>0.619189</td>\n",
       "      <td>0.034476</td>\n",
       "      <td>0.002487</td>\n",
       "      <td>1.701995e-95</td>\n",
       "      <td>5.011780e-92</td>\n",
       "    </tr>\n",
       "    <tr>\n",
       "      <th>8861</th>\n",
       "      <td>11394</td>\n",
       "      <td>5769</td>\n",
       "      <td>תחנה מרכזית סולטן סולימאן/רחוב סולטן סולימאן</td>\n",
       "      <td>רחוב:  עיר: ירושלים רציף:   קומה:</td>\n",
       "      <td>31.782927</td>\n",
       "      <td>35.231325</td>\n",
       "      <td>0</td>\n",
       "      <td>NaN</td>\n",
       "      <td>3000</td>\n",
       "      <td>POINT (35.231325 31.782927)</td>\n",
       "      <td>723</td>\n",
       "      <td>93</td>\n",
       "      <td>0.403561</td>\n",
       "      <td>0.033599</td>\n",
       "      <td>0.002457</td>\n",
       "      <td>1.321371e-97</td>\n",
       "      <td>1.112012e-93</td>\n",
       "    </tr>\n",
       "    <tr>\n",
       "      <th>8327</th>\n",
       "      <td>10790</td>\n",
       "      <td>5130</td>\n",
       "      <td>צומת רמות/גולדה</td>\n",
       "      <td>רחוב:שדרות גולדה מאיר  עיר: ירושלים רציף:   ק...</td>\n",
       "      <td>31.809648</td>\n",
       "      <td>35.204063</td>\n",
       "      <td>0</td>\n",
       "      <td>NaN</td>\n",
       "      <td>3000</td>\n",
       "      <td>POINT (35.204063 31.809648)</td>\n",
       "      <td>942</td>\n",
       "      <td>963</td>\n",
       "      <td>0.942136</td>\n",
       "      <td>0.033521</td>\n",
       "      <td>0.002292</td>\n",
       "      <td>3.338115e-04</td>\n",
       "      <td>9.496752e-02</td>\n",
       "    </tr>\n",
       "    <tr>\n",
       "      <th>7972</th>\n",
       "      <td>10264</td>\n",
       "      <td>3035</td>\n",
       "      <td>צומת רמות/ידין</td>\n",
       "      <td>רחוב:יציאה לרחוב יגאל ידין  עיר: ירושלים רציף...</td>\n",
       "      <td>31.806282</td>\n",
       "      <td>35.204894</td>\n",
       "      <td>0</td>\n",
       "      <td>NaN</td>\n",
       "      <td>3000</td>\n",
       "      <td>POINT (35.204894 31.806282)</td>\n",
       "      <td>278</td>\n",
       "      <td>248</td>\n",
       "      <td>0.260138</td>\n",
       "      <td>0.092247</td>\n",
       "      <td>0.001839</td>\n",
       "      <td>6.368142e-02</td>\n",
       "      <td>6.530821e-02</td>\n",
       "    </tr>\n",
       "    <tr>\n",
       "      <th>7457</th>\n",
       "      <td>9589</td>\n",
       "      <td>1625</td>\n",
       "      <td>חטיבת הראל/שמואל הנביא</td>\n",
       "      <td>רחוב:חטיבת הראל  עיר: ירושלים רציף:   קומה:</td>\n",
       "      <td>31.795977</td>\n",
       "      <td>35.220767</td>\n",
       "      <td>0</td>\n",
       "      <td>NaN</td>\n",
       "      <td>3000</td>\n",
       "      <td>POINT (35.220767 31.795977)</td>\n",
       "      <td>991</td>\n",
       "      <td>991</td>\n",
       "      <td>0.980218</td>\n",
       "      <td>0.050510</td>\n",
       "      <td>0.001594</td>\n",
       "      <td>2.473189e-09</td>\n",
       "      <td>1.367351e-03</td>\n",
       "    </tr>\n",
       "    <tr>\n",
       "      <th>7384</th>\n",
       "      <td>9503</td>\n",
       "      <td>1435</td>\n",
       "      <td>שד' צ'רצ'יל/קציר</td>\n",
       "      <td>רחוב:שדרות צ'רצ'יל  עיר: ירושלים רציף:   קומה:</td>\n",
       "      <td>31.797858</td>\n",
       "      <td>35.238286</td>\n",
       "      <td>0</td>\n",
       "      <td>NaN</td>\n",
       "      <td>3000</td>\n",
       "      <td>POINT (35.238286 31.797858)</td>\n",
       "      <td>499</td>\n",
       "      <td>499</td>\n",
       "      <td>0.493571</td>\n",
       "      <td>0.003408</td>\n",
       "      <td>0.001569</td>\n",
       "      <td>1.759422e-251</td>\n",
       "      <td>8.912231e-18</td>\n",
       "    </tr>\n",
       "    <tr>\n",
       "      <th>8382</th>\n",
       "      <td>10846</td>\n",
       "      <td>5200</td>\n",
       "      <td>בנייני האומה</td>\n",
       "      <td>רחוב:שדרות שז''ר  עיר: ירושלים רציף:   קומה:</td>\n",
       "      <td>31.787932</td>\n",
       "      <td>35.203427</td>\n",
       "      <td>0</td>\n",
       "      <td>NaN</td>\n",
       "      <td>3000</td>\n",
       "      <td>POINT (35.203427 31.787932)</td>\n",
       "      <td>1420</td>\n",
       "      <td>806</td>\n",
       "      <td>1.100890</td>\n",
       "      <td>0.026533</td>\n",
       "      <td>0.001563</td>\n",
       "      <td>2.897107e-04</td>\n",
       "      <td>1.051992e-04</td>\n",
       "    </tr>\n",
       "    <tr>\n",
       "      <th>7831</th>\n",
       "      <td>10071</td>\n",
       "      <td>2729</td>\n",
       "      <td>טיילת ארמון הנציב/ינובסקי</td>\n",
       "      <td>רחוב:דניאל ינובסקי  עיר: ירושלים רציף:   קומה:</td>\n",
       "      <td>31.755138</td>\n",
       "      <td>35.227898</td>\n",
       "      <td>0</td>\n",
       "      <td>NaN</td>\n",
       "      <td>3000</td>\n",
       "      <td>POINT (35.227898 31.755138)</td>\n",
       "      <td>244</td>\n",
       "      <td>245</td>\n",
       "      <td>0.241840</td>\n",
       "      <td>0.052849</td>\n",
       "      <td>0.001473</td>\n",
       "      <td>1.392538e-132</td>\n",
       "      <td>7.097300e-119</td>\n",
       "    </tr>\n",
       "    <tr>\n",
       "      <th>8085</th>\n",
       "      <td>10452</td>\n",
       "      <td>3296</td>\n",
       "      <td>דרך חברון/גבעת המטוס</td>\n",
       "      <td>רחוב:  עיר: ירושלים רציף:   קומה:</td>\n",
       "      <td>31.740490</td>\n",
       "      <td>35.213263</td>\n",
       "      <td>0</td>\n",
       "      <td>NaN</td>\n",
       "      <td>3000</td>\n",
       "      <td>POINT (35.213263 31.74049)</td>\n",
       "      <td>643</td>\n",
       "      <td>648</td>\n",
       "      <td>0.638477</td>\n",
       "      <td>0.028649</td>\n",
       "      <td>0.001470</td>\n",
       "      <td>9.661884e-08</td>\n",
       "      <td>3.283790e-11</td>\n",
       "    </tr>\n",
       "    <tr>\n",
       "      <th>6797</th>\n",
       "      <td>8708</td>\n",
       "      <td>177</td>\n",
       "      <td>גבעת שאול/נג'ארה</td>\n",
       "      <td>רחוב:רבי ישראל נג'ארה 2 עיר: ירושלים רציף:   ...</td>\n",
       "      <td>31.792073</td>\n",
       "      <td>35.191933</td>\n",
       "      <td>0</td>\n",
       "      <td>NaN</td>\n",
       "      <td>3000</td>\n",
       "      <td>POINT (35.191933 31.792073)</td>\n",
       "      <td>493</td>\n",
       "      <td>484</td>\n",
       "      <td>0.483185</td>\n",
       "      <td>0.014427</td>\n",
       "      <td>0.001433</td>\n",
       "      <td>1.344640e-03</td>\n",
       "      <td>1.162751e-02</td>\n",
       "    </tr>\n",
       "    <tr>\n",
       "      <th>7385</th>\n",
       "      <td>9504</td>\n",
       "      <td>1444</td>\n",
       "      <td>הדסה הר הצופים/שד' צ'רצ'יל</td>\n",
       "      <td>רחוב:שדרות צ'רצ'יל  עיר: ירושלים רציף:   קומה:</td>\n",
       "      <td>31.796935</td>\n",
       "      <td>35.240619</td>\n",
       "      <td>0</td>\n",
       "      <td>NaN</td>\n",
       "      <td>3000</td>\n",
       "      <td>POINT (35.240619 31.796935)</td>\n",
       "      <td>499</td>\n",
       "      <td>492</td>\n",
       "      <td>0.490109</td>\n",
       "      <td>0.002970</td>\n",
       "      <td>0.001413</td>\n",
       "      <td>9.580692e-268</td>\n",
       "      <td>1.386790e-249</td>\n",
       "    </tr>\n",
       "    <tr>\n",
       "      <th>6976</th>\n",
       "      <td>8948</td>\n",
       "      <td>523</td>\n",
       "      <td>הסינימטק/דרך חברון</td>\n",
       "      <td>רחוב:דרך חברון 6 עיר: ירושלים רציף:   קומה:</td>\n",
       "      <td>31.770599</td>\n",
       "      <td>35.225503</td>\n",
       "      <td>0</td>\n",
       "      <td>NaN</td>\n",
       "      <td>3000</td>\n",
       "      <td>POINT (35.225503 31.770599)</td>\n",
       "      <td>397</td>\n",
       "      <td>397</td>\n",
       "      <td>0.392681</td>\n",
       "      <td>0.029047</td>\n",
       "      <td>0.001373</td>\n",
       "      <td>6.650708e-18</td>\n",
       "      <td>4.324884e-19</td>\n",
       "    </tr>\n",
       "    <tr>\n",
       "      <th>7747</th>\n",
       "      <td>9959</td>\n",
       "      <td>2524</td>\n",
       "      <td>מסוף אגד/כנפי נשרים</td>\n",
       "      <td>רחוב:כנפי נשרים 35 עיר: ירושלים רציף:   קומה:</td>\n",
       "      <td>31.787220</td>\n",
       "      <td>35.181049</td>\n",
       "      <td>0</td>\n",
       "      <td>NaN</td>\n",
       "      <td>3000</td>\n",
       "      <td>POINT (35.181049 31.78722)</td>\n",
       "      <td>676</td>\n",
       "      <td>768</td>\n",
       "      <td>0.714144</td>\n",
       "      <td>0.014760</td>\n",
       "      <td>0.001357</td>\n",
       "      <td>1.166217e-04</td>\n",
       "      <td>6.429032e-08</td>\n",
       "    </tr>\n",
       "    <tr>\n",
       "      <th>8321</th>\n",
       "      <td>10784</td>\n",
       "      <td>5058</td>\n",
       "      <td>ירמיהו/מנחת יצחק</td>\n",
       "      <td>רחוב:ירמיהו  עיר: ירושלים רציף:   קומה:</td>\n",
       "      <td>31.792095</td>\n",
       "      <td>35.211299</td>\n",
       "      <td>0</td>\n",
       "      <td>NaN</td>\n",
       "      <td>3000</td>\n",
       "      <td>POINT (35.211299 31.792095)</td>\n",
       "      <td>1681</td>\n",
       "      <td>1680</td>\n",
       "      <td>1.662216</td>\n",
       "      <td>0.010218</td>\n",
       "      <td>0.001349</td>\n",
       "      <td>8.309504e-05</td>\n",
       "      <td>6.863198e-06</td>\n",
       "    </tr>\n",
       "    <tr>\n",
       "      <th>6813</th>\n",
       "      <td>8728</td>\n",
       "      <td>197</td>\n",
       "      <td>הפסגה/שד' הרצל</td>\n",
       "      <td>רחוב:הפסגה 3 עיר: ירושלים רציף:   קומה:</td>\n",
       "      <td>31.770976</td>\n",
       "      <td>35.182307</td>\n",
       "      <td>0</td>\n",
       "      <td>NaN</td>\n",
       "      <td>3000</td>\n",
       "      <td>POINT (35.182307 31.770976)</td>\n",
       "      <td>331</td>\n",
       "      <td>344</td>\n",
       "      <td>0.333828</td>\n",
       "      <td>0.009452</td>\n",
       "      <td>0.001339</td>\n",
       "      <td>5.162061e-255</td>\n",
       "      <td>8.615385e-03</td>\n",
       "    </tr>\n",
       "    <tr>\n",
       "      <th>6743</th>\n",
       "      <td>8645</td>\n",
       "      <td>112</td>\n",
       "      <td>יעקובזון/עזרת תורה</td>\n",
       "      <td>רחוב:יעקובזון  עיר: ירושלים רציף:   קומה:</td>\n",
       "      <td>31.795082</td>\n",
       "      <td>35.211701</td>\n",
       "      <td>0</td>\n",
       "      <td>NaN</td>\n",
       "      <td>3000</td>\n",
       "      <td>POINT (35.211701 31.795082)</td>\n",
       "      <td>312</td>\n",
       "      <td>312</td>\n",
       "      <td>0.308605</td>\n",
       "      <td>0.017189</td>\n",
       "      <td>0.001299</td>\n",
       "      <td>2.256143e-03</td>\n",
       "      <td>2.973205e-20</td>\n",
       "    </tr>\n",
       "    <tr>\n",
       "      <th>7574</th>\n",
       "      <td>9740</td>\n",
       "      <td>2040</td>\n",
       "      <td>גולומב/בוליביה</td>\n",
       "      <td>רחוב:גולומב  עיר: ירושלים רציף:   קומה:</td>\n",
       "      <td>31.757533</td>\n",
       "      <td>35.181578</td>\n",
       "      <td>0</td>\n",
       "      <td>NaN</td>\n",
       "      <td>3000</td>\n",
       "      <td>POINT (35.181578 31.757533)</td>\n",
       "      <td>244</td>\n",
       "      <td>244</td>\n",
       "      <td>0.241345</td>\n",
       "      <td>0.026577</td>\n",
       "      <td>0.001291</td>\n",
       "      <td>8.041370e-09</td>\n",
       "      <td>2.830903e-162</td>\n",
       "    </tr>\n",
       "    <tr>\n",
       "      <th>6879</th>\n",
       "      <td>8822</td>\n",
       "      <td>319</td>\n",
       "      <td>קלרמון גנו/אהרון קציר</td>\n",
       "      <td>רחוב:קלרמון גאנו 3 עיר: ירושלים רציף:   קומה:</td>\n",
       "      <td>31.795857</td>\n",
       "      <td>35.233157</td>\n",
       "      <td>0</td>\n",
       "      <td>NaN</td>\n",
       "      <td>3000</td>\n",
       "      <td>POINT (35.233157 31.795857)</td>\n",
       "      <td>818</td>\n",
       "      <td>818</td>\n",
       "      <td>0.809100</td>\n",
       "      <td>0.011969</td>\n",
       "      <td>0.001290</td>\n",
       "      <td>2.551587e-16</td>\n",
       "      <td>3.329671e-10</td>\n",
       "    </tr>\n",
       "    <tr>\n",
       "      <th>8204</th>\n",
       "      <td>10639</td>\n",
       "      <td>3629</td>\n",
       "      <td>רב שפע/שמגר</td>\n",
       "      <td>רחוב:שמגר 22 עיר: ירושלים רציף:   קומה:</td>\n",
       "      <td>31.794646</td>\n",
       "      <td>35.208213</td>\n",
       "      <td>0</td>\n",
       "      <td>NaN</td>\n",
       "      <td>3000</td>\n",
       "      <td>POINT (35.208213 31.794646)</td>\n",
       "      <td>674</td>\n",
       "      <td>674</td>\n",
       "      <td>0.666667</td>\n",
       "      <td>0.007325</td>\n",
       "      <td>0.001287</td>\n",
       "      <td>7.669507e-07</td>\n",
       "      <td>2.164416e-238</td>\n",
       "    </tr>\n",
       "  </tbody>\n",
       "</table>\n",
       "</div>"
      ],
      "text/plain": [
       "      stop_id  stop_code                                     stop_name  \\\n",
       "8267    10716       4009                               צומת רמות/גולדה   \n",
       "6952     8916        491                 מוזיאון רוקפלר/סולטאן סולימאן   \n",
       "8861    11394       5769  תחנה מרכזית סולטן סולימאן/רחוב סולטן סולימאן   \n",
       "8327    10790       5130                               צומת רמות/גולדה   \n",
       "7972    10264       3035                                צומת רמות/ידין   \n",
       "7457     9589       1625                        חטיבת הראל/שמואל הנביא   \n",
       "7384     9503       1435                              שד' צ'רצ'יל/קציר   \n",
       "8382    10846       5200                                  בנייני האומה   \n",
       "7831    10071       2729                     טיילת ארמון הנציב/ינובסקי   \n",
       "8085    10452       3296                          דרך חברון/גבעת המטוס   \n",
       "6797     8708        177                              גבעת שאול/נג'ארה   \n",
       "7385     9504       1444                    הדסה הר הצופים/שד' צ'רצ'יל   \n",
       "6976     8948        523                            הסינימטק/דרך חברון   \n",
       "7747     9959       2524                           מסוף אגד/כנפי נשרים   \n",
       "8321    10784       5058                              ירמיהו/מנחת יצחק   \n",
       "6813     8728        197                                הפסגה/שד' הרצל   \n",
       "6743     8645        112                            יעקובזון/עזרת תורה   \n",
       "7574     9740       2040                                גולומב/בוליביה   \n",
       "6879     8822        319                         קלרמון גנו/אהרון קציר   \n",
       "8204    10639       3629                                   רב שפע/שמגר   \n",
       "\n",
       "                                              stop_desc   stop_lat   stop_lon  \\\n",
       "8267   רחוב:שדרות גולדה מאיר  עיר: ירושלים רציף:   ק...  31.808251  35.203986   \n",
       "6952   רחוב:סולטאן סולימאן 23 עיר: ירושלים רציף:   ק...  31.783533  35.234357   \n",
       "8861                רחוב:  עיר: ירושלים רציף:   קומה:    31.782927  35.231325   \n",
       "8327   רחוב:שדרות גולדה מאיר  עיר: ירושלים רציף:   ק...  31.809648  35.204063   \n",
       "7972   רחוב:יציאה לרחוב יגאל ידין  עיר: ירושלים רציף...  31.806282  35.204894   \n",
       "7457      רחוב:חטיבת הראל  עיר: ירושלים רציף:   קומה:    31.795977  35.220767   \n",
       "7384   רחוב:שדרות צ'רצ'יל  עיר: ירושלים רציף:   קומה:    31.797858  35.238286   \n",
       "8382     רחוב:שדרות שז''ר  עיר: ירושלים רציף:   קומה:    31.787932  35.203427   \n",
       "7831   רחוב:דניאל ינובסקי  עיר: ירושלים רציף:   קומה:    31.755138  35.227898   \n",
       "8085                רחוב:  עיר: ירושלים רציף:   קומה:    31.740490  35.213263   \n",
       "6797   רחוב:רבי ישראל נג'ארה 2 עיר: ירושלים רציף:   ...  31.792073  35.191933   \n",
       "7385   רחוב:שדרות צ'רצ'יל  עיר: ירושלים רציף:   קומה:    31.796935  35.240619   \n",
       "6976      רחוב:דרך חברון 6 עיר: ירושלים רציף:   קומה:    31.770599  35.225503   \n",
       "7747    רחוב:כנפי נשרים 35 עיר: ירושלים רציף:   קומה:    31.787220  35.181049   \n",
       "8321          רחוב:ירמיהו  עיר: ירושלים רציף:   קומה:    31.792095  35.211299   \n",
       "6813          רחוב:הפסגה 3 עיר: ירושלים רציף:   קומה:    31.770976  35.182307   \n",
       "6743        רחוב:יעקובזון  עיר: ירושלים רציף:   קומה:    31.795082  35.211701   \n",
       "7574          רחוב:גולומב  עיר: ירושלים רציף:   קומה:    31.757533  35.181578   \n",
       "6879    רחוב:קלרמון גאנו 3 עיר: ירושלים רציף:   קומה:    31.795857  35.233157   \n",
       "8204          רחוב:שמגר 22 עיר: ירושלים רציף:   קומה:    31.794646  35.208213   \n",
       "\n",
       "      location_type  parent_station  zone_id                     geometry  \\\n",
       "8267              0             NaN     3000  POINT (35.203986 31.808251)   \n",
       "6952              0             NaN     3000  POINT (35.234357 31.783533)   \n",
       "8861              0             NaN     3000  POINT (35.231325 31.782927)   \n",
       "8327              0             NaN     3000  POINT (35.204063 31.809648)   \n",
       "7972              0             NaN     3000  POINT (35.204894 31.806282)   \n",
       "7457              0             NaN     3000  POINT (35.220767 31.795977)   \n",
       "7384              0             NaN     3000  POINT (35.238286 31.797858)   \n",
       "8382              0             NaN     3000  POINT (35.203427 31.787932)   \n",
       "7831              0             NaN     3000  POINT (35.227898 31.755138)   \n",
       "8085              0             NaN     3000   POINT (35.213263 31.74049)   \n",
       "6797              0             NaN     3000  POINT (35.191933 31.792073)   \n",
       "7385              0             NaN     3000  POINT (35.240619 31.796935)   \n",
       "6976              0             NaN     3000  POINT (35.225503 31.770599)   \n",
       "7747              0             NaN     3000   POINT (35.181049 31.78722)   \n",
       "8321              0             NaN     3000  POINT (35.211299 31.792095)   \n",
       "6813              0             NaN     3000  POINT (35.182307 31.770976)   \n",
       "6743              0             NaN     3000  POINT (35.211701 31.795082)   \n",
       "7574              0             NaN     3000  POINT (35.181578 31.757533)   \n",
       "6879              0             NaN     3000  POINT (35.233157 31.795857)   \n",
       "8204              0             NaN     3000  POINT (35.208213 31.794646)   \n",
       "\n",
       "      in_degree  out_degree        dc        bc        pr             hb  \\\n",
       "8267       1187        1219  1.189911  0.149633  0.002853   5.643326e-02   \n",
       "6952        626         626  0.619189  0.034476  0.002487   1.701995e-95   \n",
       "8861        723          93  0.403561  0.033599  0.002457   1.321371e-97   \n",
       "8327        942         963  0.942136  0.033521  0.002292   3.338115e-04   \n",
       "7972        278         248  0.260138  0.092247  0.001839   6.368142e-02   \n",
       "7457        991         991  0.980218  0.050510  0.001594   2.473189e-09   \n",
       "7384        499         499  0.493571  0.003408  0.001569  1.759422e-251   \n",
       "8382       1420         806  1.100890  0.026533  0.001563   2.897107e-04   \n",
       "7831        244         245  0.241840  0.052849  0.001473  1.392538e-132   \n",
       "8085        643         648  0.638477  0.028649  0.001470   9.661884e-08   \n",
       "6797        493         484  0.483185  0.014427  0.001433   1.344640e-03   \n",
       "7385        499         492  0.490109  0.002970  0.001413  9.580692e-268   \n",
       "6976        397         397  0.392681  0.029047  0.001373   6.650708e-18   \n",
       "7747        676         768  0.714144  0.014760  0.001357   1.166217e-04   \n",
       "8321       1681        1680  1.662216  0.010218  0.001349   8.309504e-05   \n",
       "6813        331         344  0.333828  0.009452  0.001339  5.162061e-255   \n",
       "6743        312         312  0.308605  0.017189  0.001299   2.256143e-03   \n",
       "7574        244         244  0.241345  0.026577  0.001291   8.041370e-09   \n",
       "6879        818         818  0.809100  0.011969  0.001290   2.551587e-16   \n",
       "8204        674         674  0.666667  0.007325  0.001287   7.669507e-07   \n",
       "\n",
       "                 au  \n",
       "8267   2.073510e-02  \n",
       "6952   5.011780e-92  \n",
       "8861   1.112012e-93  \n",
       "8327   9.496752e-02  \n",
       "7972   6.530821e-02  \n",
       "7457   1.367351e-03  \n",
       "7384   8.912231e-18  \n",
       "8382   1.051992e-04  \n",
       "7831  7.097300e-119  \n",
       "8085   3.283790e-11  \n",
       "6797   1.162751e-02  \n",
       "7385  1.386790e-249  \n",
       "6976   4.324884e-19  \n",
       "7747   6.429032e-08  \n",
       "8321   6.863198e-06  \n",
       "6813   8.615385e-03  \n",
       "6743   2.973205e-20  \n",
       "7574  2.830903e-162  \n",
       "6879   3.329671e-10  \n",
       "8204  2.164416e-238  "
      ]
     },
     "execution_count": 53,
     "metadata": {},
     "output_type": "execute_result"
    }
   ],
   "source": [
    "stops_jer.sort_values(by = 'pr', ascending = False).head(20)"
   ]
  },
  {
   "cell_type": "markdown",
   "metadata": {},
   "source": [
    "save to file:"
   ]
  },
  {
   "cell_type": "code",
   "execution_count": 54,
   "metadata": {},
   "outputs": [],
   "source": [
    "\n",
    "stops_jer.to_file('../data/stops_jer.geojson', driver = 'GeoJSON')"
   ]
  },
  {
   "cell_type": "code",
   "execution_count": null,
   "metadata": {},
   "outputs": [],
   "source": []
  }
 ],
 "metadata": {
  "kernelspec": {
   "display_name": "Python 3",
   "language": "python",
   "name": "python3"
  },
  "language_info": {
   "codemirror_mode": {
    "name": "ipython",
    "version": 3
   },
   "file_extension": ".py",
   "mimetype": "text/x-python",
   "name": "python",
   "nbconvert_exporter": "python",
   "pygments_lexer": "ipython3",
   "version": "3.7.3"
  }
 },
 "nbformat": 4,
 "nbformat_minor": 2
}
